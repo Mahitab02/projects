{
  "cells": [
    {
      "cell_type": "markdown",
      "metadata": {
        "id": "view-in-github",
        "colab_type": "text"
      },
      "source": [
        "<a href=\"https://colab.research.google.com/github/Mahitab02/projects/blob/main/project_DM(KNN%2C_DT)_(1).ipynb\" target=\"_parent\"><img src=\"https://colab.research.google.com/assets/colab-badge.svg\" alt=\"Open In Colab\"/></a>"
      ]
    },
    {
      "cell_type": "code",
      "execution_count": null,
      "id": "8798d250",
      "metadata": {
        "id": "8798d250"
      },
      "outputs": [],
      "source": [
        "#import needed libraries and take an object from them\n",
        "import numpy as np\n",
        "import pandas as pd\n",
        "import matplotlib.pyplot as plt\n",
        "from sklearn.neighbors import KNeighborsClassifier\n",
        "from sklearn.metrics import accuracy_score\n",
        "from sklearn.model_selection import train_test_split\n",
        "from sklearn.tree import DecisionTreeClassifier\n",
        "from sklearn.preprocessing import LabelEncoder\n",
        "from sklearn.metrics import confusion_matrix,accuracy_score\n",
        "from sklearn.preprocessing import StandardScaler\n",
        "from sklearn.naive_bayes import GaussianNB"
      ]
    },
    {
      "cell_type": "code",
      "execution_count": null,
      "id": "2f816123",
      "metadata": {
        "id": "2f816123",
        "outputId": "11497ad6-fb43-4576-b532-60e06cd85d78"
      },
      "outputs": [
        {
          "data": {
            "text/html": [
              "<div>\n",
              "<style scoped>\n",
              "    .dataframe tbody tr th:only-of-type {\n",
              "        vertical-align: middle;\n",
              "    }\n",
              "\n",
              "    .dataframe tbody tr th {\n",
              "        vertical-align: top;\n",
              "    }\n",
              "\n",
              "    .dataframe thead th {\n",
              "        text-align: right;\n",
              "    }\n",
              "</style>\n",
              "<table border=\"1\" class=\"dataframe\">\n",
              "  <thead>\n",
              "    <tr style=\"text-align: right;\">\n",
              "      <th></th>\n",
              "      <th>SIZE</th>\n",
              "      <th>FUEL</th>\n",
              "      <th>DISTANCE</th>\n",
              "      <th>DESIBEL</th>\n",
              "      <th>AIRFLOW</th>\n",
              "      <th>FREQUENCY</th>\n",
              "      <th>BOS</th>\n",
              "      <th>Operation_Code</th>\n",
              "      <th>STATUS</th>\n",
              "    </tr>\n",
              "  </thead>\n",
              "  <tbody>\n",
              "    <tr>\n",
              "      <th>0</th>\n",
              "      <td>4</td>\n",
              "      <td>kerosene</td>\n",
              "      <td>NaN</td>\n",
              "      <td>95.0</td>\n",
              "      <td>5.8</td>\n",
              "      <td>60.0</td>\n",
              "      <td>273.25</td>\n",
              "      <td>71053</td>\n",
              "      <td>0</td>\n",
              "    </tr>\n",
              "    <tr>\n",
              "      <th>1</th>\n",
              "      <td>6</td>\n",
              "      <td>lpg</td>\n",
              "      <td>50.0</td>\n",
              "      <td>106.0</td>\n",
              "      <td>NaN</td>\n",
              "      <td>22.0</td>\n",
              "      <td>297.30</td>\n",
              "      <td>84406B</td>\n",
              "      <td>1</td>\n",
              "    </tr>\n",
              "    <tr>\n",
              "      <th>2</th>\n",
              "      <td>4</td>\n",
              "      <td>thinner</td>\n",
              "      <td>160.0</td>\n",
              "      <td>105.0</td>\n",
              "      <td>4.4</td>\n",
              "      <td>36.0</td>\n",
              "      <td>304.75</td>\n",
              "      <td>35970</td>\n",
              "      <td>0</td>\n",
              "    </tr>\n",
              "    <tr>\n",
              "      <th>3</th>\n",
              "      <td>6</td>\n",
              "      <td>lpg</td>\n",
              "      <td>90.0</td>\n",
              "      <td>102.0</td>\n",
              "      <td>0.0</td>\n",
              "      <td>68.0</td>\n",
              "      <td>272.10</td>\n",
              "      <td>47559b</td>\n",
              "      <td>0</td>\n",
              "    </tr>\n",
              "    <tr>\n",
              "      <th>4</th>\n",
              "      <td>1</td>\n",
              "      <td>gasoline</td>\n",
              "      <td>180.0</td>\n",
              "      <td>87.0</td>\n",
              "      <td>2.8</td>\n",
              "      <td>5.0</td>\n",
              "      <td>225.85</td>\n",
              "      <td>47580</td>\n",
              "      <td>0</td>\n",
              "    </tr>\n",
              "  </tbody>\n",
              "</table>\n",
              "</div>"
            ],
            "text/plain": [
              "   SIZE      FUEL  DISTANCE  DESIBEL  AIRFLOW  FREQUENCY     BOS  \\\n",
              "0     4  kerosene       NaN     95.0      5.8       60.0  273.25   \n",
              "1     6       lpg      50.0    106.0      NaN       22.0  297.30   \n",
              "2     4   thinner     160.0    105.0      4.4       36.0  304.75   \n",
              "3     6       lpg      90.0    102.0      0.0       68.0  272.10   \n",
              "4     1  gasoline     180.0     87.0      2.8        5.0  225.85   \n",
              "\n",
              "  Operation_Code  STATUS  \n",
              "0          71053       0  \n",
              "1         84406B       1  \n",
              "2          35970       0  \n",
              "3         47559b       0  \n",
              "4          47580       0  "
            ]
          },
          "execution_count": 523,
          "metadata": {},
          "output_type": "execute_result"
        }
      ],
      "source": [
        "#load the data\n",
        "Data=pd.read_csv(\"Acoustic_Extinguisher_Fire_Dataset22.csv\")\n",
        "Data.head()"
      ]
    },
    {
      "cell_type": "code",
      "execution_count": null,
      "id": "86c447dc",
      "metadata": {
        "id": "86c447dc",
        "outputId": "78c6d165-3446-48df-90a7-b4e7340eb66a"
      },
      "outputs": [
        {
          "name": "stdout",
          "output_type": "stream",
          "text": [
            "<class 'pandas.core.frame.DataFrame'>\n",
            "RangeIndex: 17446 entries, 0 to 17445\n",
            "Data columns (total 9 columns):\n",
            " #   Column          Non-Null Count  Dtype  \n",
            "---  ------          --------------  -----  \n",
            " 0   SIZE            17446 non-null  int64  \n",
            " 1   FUEL            17445 non-null  object \n",
            " 2   DISTANCE        17433 non-null  float64\n",
            " 3   DESIBEL         17413 non-null  float64\n",
            " 4   AIRFLOW         17382 non-null  float64\n",
            " 5   FREQUENCY       17402 non-null  float64\n",
            " 6   BOS             17426 non-null  float64\n",
            " 7   Operation_Code  17444 non-null  object \n",
            " 8   STATUS          17446 non-null  int64  \n",
            "dtypes: float64(5), int64(2), object(2)\n",
            "memory usage: 1.2+ MB\n"
          ]
        }
      ],
      "source": [
        "#print all information about the Data\n",
        "Data.info()"
      ]
    },
    {
      "cell_type": "code",
      "execution_count": null,
      "id": "fdc83fa4",
      "metadata": {
        "id": "fdc83fa4",
        "outputId": "199ea68a-97d7-4991-b3c3-7fbc6a8b6be6"
      },
      "outputs": [
        {
          "data": {
            "text/plain": [
              "SIZE               0\n",
              "FUEL               1\n",
              "DISTANCE          13\n",
              "DESIBEL           33\n",
              "AIRFLOW           64\n",
              "FREQUENCY         44\n",
              "BOS               20\n",
              "Operation_Code     2\n",
              "STATUS             0\n",
              "dtype: int64"
            ]
          },
          "execution_count": 525,
          "metadata": {},
          "output_type": "execute_result"
        }
      ],
      "source": [
        "#getting the number of the missed values in the data using the following function\n",
        "Data.isnull().sum()"
      ]
    },
    {
      "cell_type": "code",
      "execution_count": null,
      "id": "bbfdb73d",
      "metadata": {
        "id": "bbfdb73d"
      },
      "outputs": [],
      "source": [
        "#we handle the problem of missing data by removind the row which contain the missing values \n",
        "#using dropna() function we drop the missing valus's rows\n",
        "Data=Data.dropna()"
      ]
    },
    {
      "cell_type": "code",
      "execution_count": null,
      "id": "eb7516c9",
      "metadata": {
        "id": "eb7516c9",
        "outputId": "66c8aef6-b789-499d-ea62-5b7110887d41"
      },
      "outputs": [
        {
          "data": {
            "text/plain": [
              "SIZE              0\n",
              "FUEL              0\n",
              "DISTANCE          0\n",
              "DESIBEL           0\n",
              "AIRFLOW           0\n",
              "FREQUENCY         0\n",
              "BOS               0\n",
              "Operation_Code    0\n",
              "STATUS            0\n",
              "dtype: int64"
            ]
          },
          "execution_count": 527,
          "metadata": {},
          "output_type": "execute_result"
        }
      ],
      "source": [
        "#then checking whether there are missing values or not again to make sure that we handle the problem of missing values\n",
        "Data.isnull().sum()"
      ]
    },
    {
      "cell_type": "code",
      "execution_count": null,
      "id": "64135d86",
      "metadata": {
        "id": "64135d86",
        "outputId": "720f62e9-19ae-4c3b-e5ef-4fc0b284350b"
      },
      "outputs": [
        {
          "name": "stdout",
          "output_type": "stream",
          "text": [
            "<class 'pandas.core.frame.DataFrame'>\n",
            "Int64Index: 17273 entries, 2 to 17445\n",
            "Data columns (total 9 columns):\n",
            " #   Column          Non-Null Count  Dtype  \n",
            "---  ------          --------------  -----  \n",
            " 0   SIZE            17273 non-null  int64  \n",
            " 1   FUEL            17273 non-null  object \n",
            " 2   DISTANCE        17273 non-null  float64\n",
            " 3   DESIBEL         17273 non-null  float64\n",
            " 4   AIRFLOW         17273 non-null  float64\n",
            " 5   FREQUENCY       17273 non-null  float64\n",
            " 6   BOS             17273 non-null  float64\n",
            " 7   Operation_Code  17273 non-null  object \n",
            " 8   STATUS          17273 non-null  int64  \n",
            "dtypes: float64(5), int64(2), object(2)\n",
            "memory usage: 1.3+ MB\n"
          ]
        }
      ],
      "source": [
        "#print information about the Data after remove missing values\n",
        "Data.info()"
      ]
    },
    {
      "cell_type": "code",
      "execution_count": null,
      "id": "59aab4e9",
      "metadata": {
        "id": "59aab4e9",
        "outputId": "05657129-81bd-4cf2-f3ff-e2f68d55e507"
      },
      "outputs": [
        {
          "data": {
            "text/plain": [
              "<AxesSubplot:>"
            ]
          },
          "execution_count": 529,
          "metadata": {},
          "output_type": "execute_result"
        },
        {
          "data": {
            "image/png": "[encoded data removed]",
            "text/plain": [
              "<Figure size 720x432 with 1 Axes>"
            ]
          },
          "metadata": {
            "needs_background": "light"
          },
          "output_type": "display_data"
        }
      ],
      "source": [
        "#boxplot when data is noise\n",
        "plt.figure(figsize = (10, 6))\n",
        "Data.boxplot()"
      ]
    },
    {
      "cell_type": "code",
      "execution_count": null,
      "id": "b854be6c",
      "metadata": {
        "id": "b854be6c"
      },
      "outputs": [],
      "source": [
        "#remove outliers from column'DISTANCE'\n",
        "#remove all data that bigger than max and smaller than min after we calculate max, min values\n",
        "#by change all outlier values to null vales to drop them  \n",
        "for x in ['DISTANCE']:\n",
        "    Q75,Q25 = np.percentile(Data.loc[:,x],[75,25])\n",
        "    intr_qr = Q75-Q25\n",
        " \n",
        "    max = Q75+(1.5*intr_qr)\n",
        "    min = Q25-(1.5*intr_qr)\n",
        " \n",
        "    Data.loc[Data[x] < min,x] = np.nan\n",
        "    Data.loc[Data[x] > max,x] = np.nan"
      ]
    },
    {
      "cell_type": "code",
      "execution_count": null,
      "id": "e3280cfc",
      "metadata": {
        "id": "e3280cfc",
        "outputId": "6ae729c6-b15c-4b2f-a51c-a19de70b4536"
      },
      "outputs": [
        {
          "data": {
            "text/plain": [
              "SIZE              0\n",
              "FUEL              0\n",
              "DISTANCE          1\n",
              "DESIBEL           0\n",
              "AIRFLOW           0\n",
              "FREQUENCY         0\n",
              "BOS               0\n",
              "Operation_Code    0\n",
              "STATUS            0\n",
              "dtype: int64"
            ]
          },
          "execution_count": 531,
          "metadata": {},
          "output_type": "execute_result"
        }
      ],
      "source": [
        "#sum all null values in column 'DISTANCE'\n",
        "Data.isnull().sum()"
      ]
    },
    {
      "cell_type": "code",
      "execution_count": null,
      "id": "ed98d219",
      "metadata": {
        "id": "ed98d219"
      },
      "outputs": [],
      "source": [
        "#drop all null values that we found in column 'DISTANCE' \n",
        "Data = Data.dropna(axis = 0)"
      ]
    },
    {
      "cell_type": "code",
      "execution_count": null,
      "id": "36f30477",
      "metadata": {
        "id": "36f30477",
        "outputId": "d81b50b8-4116-477c-88d3-7e8f01a934fe"
      },
      "outputs": [
        {
          "name": "stdout",
          "output_type": "stream",
          "text": [
            "<class 'pandas.core.frame.DataFrame'>\n",
            "Int64Index: 17272 entries, 2 to 17445\n",
            "Data columns (total 9 columns):\n",
            " #   Column          Non-Null Count  Dtype  \n",
            "---  ------          --------------  -----  \n",
            " 0   SIZE            17272 non-null  int64  \n",
            " 1   FUEL            17272 non-null  object \n",
            " 2   DISTANCE        17272 non-null  float64\n",
            " 3   DESIBEL         17272 non-null  float64\n",
            " 4   AIRFLOW         17272 non-null  float64\n",
            " 5   FREQUENCY       17272 non-null  float64\n",
            " 6   BOS             17272 non-null  float64\n",
            " 7   Operation_Code  17272 non-null  object \n",
            " 8   STATUS          17272 non-null  int64  \n",
            "dtypes: float64(5), int64(2), object(2)\n",
            "memory usage: 1.3+ MB\n"
          ]
        }
      ],
      "source": [
        "#print information about the Data after remove null values that we found in 'DISTANCE' column\n",
        "Data.info()"
      ]
    },
    {
      "cell_type": "code",
      "execution_count": null,
      "id": "29eafc8f",
      "metadata": {
        "id": "29eafc8f"
      },
      "outputs": [],
      "source": [
        "#remove outliers from column 'AIRFLOW'\n",
        "#remove all data that bigger than max and smaller than min after we calculate max, min values\n",
        "#by change all outlier values to null vales to drop them \n",
        "for y in ['AIRFLOW']:\n",
        "    Q75,Q25 = np.percentile(Data.loc[:,y],[75,25])\n",
        "    intr_qr = Q75-Q25\n",
        " \n",
        "    max = Q75+(1.5*intr_qr)\n",
        "    min = Q25-(1.5*intr_qr)\n",
        " \n",
        "    Data.loc[Data[y] < min,y] = np.nan\n",
        "    Data.loc[Data[y] > max,y] = np.nan"
      ]
    },
    {
      "cell_type": "code",
      "execution_count": null,
      "id": "a6c1ff83",
      "metadata": {
        "id": "a6c1ff83",
        "outputId": "b2a9cf7f-2288-4ac7-dcf2-75fdc9bff4ea"
      },
      "outputs": [
        {
          "data": {
            "text/plain": [
              "SIZE              0\n",
              "FUEL              0\n",
              "DISTANCE          0\n",
              "DESIBEL           0\n",
              "AIRFLOW           1\n",
              "FREQUENCY         0\n",
              "BOS               0\n",
              "Operation_Code    0\n",
              "STATUS            0\n",
              "dtype: int64"
            ]
          },
          "execution_count": 535,
          "metadata": {},
          "output_type": "execute_result"
        }
      ],
      "source": [
        "#sum all null vales in 'AIRFLOW' column\n",
        "Data.isnull().sum()"
      ]
    },
    {
      "cell_type": "code",
      "execution_count": null,
      "id": "ea19840a",
      "metadata": {
        "id": "ea19840a"
      },
      "outputs": [],
      "source": [
        "#drop all null values that we found in 'AIRFLOW' column\n",
        "Data = Data.dropna(axis = 0)"
      ]
    },
    {
      "cell_type": "code",
      "execution_count": null,
      "id": "8b880966",
      "metadata": {
        "id": "8b880966",
        "outputId": "180dde0d-67ee-47bf-850a-097650f2b667"
      },
      "outputs": [
        {
          "name": "stdout",
          "output_type": "stream",
          "text": [
            "<class 'pandas.core.frame.DataFrame'>\n",
            "Int64Index: 17271 entries, 2 to 17445\n",
            "Data columns (total 9 columns):\n",
            " #   Column          Non-Null Count  Dtype  \n",
            "---  ------          --------------  -----  \n",
            " 0   SIZE            17271 non-null  int64  \n",
            " 1   FUEL            17271 non-null  object \n",
            " 2   DISTANCE        17271 non-null  float64\n",
            " 3   DESIBEL         17271 non-null  float64\n",
            " 4   AIRFLOW         17271 non-null  float64\n",
            " 5   FREQUENCY       17271 non-null  float64\n",
            " 6   BOS             17271 non-null  float64\n",
            " 7   Operation_Code  17271 non-null  object \n",
            " 8   STATUS          17271 non-null  int64  \n",
            "dtypes: float64(5), int64(2), object(2)\n",
            "memory usage: 1.3+ MB\n"
          ]
        }
      ],
      "source": [
        "#print information about the Data after remove null values that we found in 'AIRFLOW' column\n",
        "Data.info()"
      ]
    },
    {
      "cell_type": "code",
      "execution_count": null,
      "id": "835f6651",
      "metadata": {
        "id": "835f6651"
      },
      "outputs": [],
      "source": [
        "#remove outliers from column 'BOS'\n",
        "#remove all data that bigger than max and smaller than min after we calculate max, min values\n",
        "#by change all outlier values to null vales to drop them \n",
        "for z in ['BOS']:\n",
        "    Q75,Q25 = np.percentile(Data.loc[:,z],[75,25])\n",
        "    intr_qr = Q75-Q25\n",
        " \n",
        "    max = Q75+(1.5*intr_qr)\n",
        "    min = Q25-(1.5*intr_qr)\n",
        " \n",
        "    Data.loc[Data[z] < min,z] = np.nan\n",
        "    Data.loc[Data[z] > max,z] = np.nan"
      ]
    },
    {
      "cell_type": "code",
      "execution_count": null,
      "id": "428a19b9",
      "metadata": {
        "id": "428a19b9",
        "outputId": "320a248e-3e13-4943-fc21-0597a2d174c8"
      },
      "outputs": [
        {
          "data": {
            "text/plain": [
              "SIZE               0\n",
              "FUEL               0\n",
              "DISTANCE           0\n",
              "DESIBEL            0\n",
              "AIRFLOW            0\n",
              "FREQUENCY          0\n",
              "BOS               59\n",
              "Operation_Code     0\n",
              "STATUS             0\n",
              "dtype: int64"
            ]
          },
          "execution_count": 539,
          "metadata": {},
          "output_type": "execute_result"
        }
      ],
      "source": [
        "#sum all null vales in 'BOS' column\n",
        "Data.isnull().sum()"
      ]
    },
    {
      "cell_type": "code",
      "execution_count": null,
      "id": "f1973565",
      "metadata": {
        "id": "f1973565"
      },
      "outputs": [],
      "source": [
        "#drop all null values that we found in 'BOS' column\n",
        "Data = Data.dropna(axis = 0)"
      ]
    },
    {
      "cell_type": "code",
      "execution_count": null,
      "id": "d9f1f129",
      "metadata": {
        "id": "d9f1f129",
        "outputId": "fb3e1852-aef9-4710-a25f-7f0da4e57491"
      },
      "outputs": [
        {
          "name": "stdout",
          "output_type": "stream",
          "text": [
            "<class 'pandas.core.frame.DataFrame'>\n",
            "Int64Index: 17212 entries, 2 to 17445\n",
            "Data columns (total 9 columns):\n",
            " #   Column          Non-Null Count  Dtype  \n",
            "---  ------          --------------  -----  \n",
            " 0   SIZE            17212 non-null  int64  \n",
            " 1   FUEL            17212 non-null  object \n",
            " 2   DISTANCE        17212 non-null  float64\n",
            " 3   DESIBEL         17212 non-null  float64\n",
            " 4   AIRFLOW         17212 non-null  float64\n",
            " 5   FREQUENCY       17212 non-null  float64\n",
            " 6   BOS             17212 non-null  float64\n",
            " 7   Operation_Code  17212 non-null  object \n",
            " 8   STATUS          17212 non-null  int64  \n",
            "dtypes: float64(5), int64(2), object(2)\n",
            "memory usage: 1.3+ MB\n"
          ]
        }
      ],
      "source": [
        "#print information about the Data after remove null values that we found in 'BOS' column\n",
        "Data.info()"
      ]
    },
    {
      "cell_type": "code",
      "execution_count": null,
      "id": "7412a4a0",
      "metadata": {
        "id": "7412a4a0"
      },
      "outputs": [],
      "source": [
        "#remove outliers from column 'FREQUENCY'\n",
        "#remove all data that bigger than max and smaller than min after we calculate max, min values\n",
        "#by change all outlier values to null vales to drop them \n",
        "for j in ['FREQUENCY']:\n",
        "    Q75,Q25 = np.percentile(Data.loc[:,j],[75,25])\n",
        "    intr_qr = Q75-Q25\n",
        " \n",
        "    max = Q75+(1.5*intr_qr)\n",
        "    min = Q25-(1.5*intr_qr)\n",
        " \n",
        "    Data.loc[Data[j] < min,j] = np.nan\n",
        "    Data.loc[Data[j] > max,j] = np.nan"
      ]
    },
    {
      "cell_type": "code",
      "execution_count": null,
      "id": "db050937",
      "metadata": {
        "id": "db050937",
        "outputId": "6c81a38b-2b71-409e-8c9c-e9169ed5586b"
      },
      "outputs": [
        {
          "data": {
            "text/plain": [
              "SIZE              0\n",
              "FUEL              0\n",
              "DISTANCE          0\n",
              "DESIBEL           0\n",
              "AIRFLOW           0\n",
              "FREQUENCY         1\n",
              "BOS               0\n",
              "Operation_Code    0\n",
              "STATUS            0\n",
              "dtype: int64"
            ]
          },
          "execution_count": 543,
          "metadata": {},
          "output_type": "execute_result"
        }
      ],
      "source": [
        "#sum all null vales in 'FREQUENCY' column\n",
        "Data.isnull().sum()"
      ]
    },
    {
      "cell_type": "code",
      "execution_count": null,
      "id": "20a01cdb",
      "metadata": {
        "id": "20a01cdb"
      },
      "outputs": [],
      "source": [
        "#drop all null values that we found in 'FREQUENCY' column\n",
        "Data = Data.dropna(axis = 0)"
      ]
    },
    {
      "cell_type": "code",
      "execution_count": null,
      "id": "8460d198",
      "metadata": {
        "id": "8460d198",
        "outputId": "fdc035d8-5781-4a00-8101-b0e59af47124"
      },
      "outputs": [
        {
          "name": "stdout",
          "output_type": "stream",
          "text": [
            "<class 'pandas.core.frame.DataFrame'>\n",
            "Int64Index: 17211 entries, 2 to 17445\n",
            "Data columns (total 9 columns):\n",
            " #   Column          Non-Null Count  Dtype  \n",
            "---  ------          --------------  -----  \n",
            " 0   SIZE            17211 non-null  int64  \n",
            " 1   FUEL            17211 non-null  object \n",
            " 2   DISTANCE        17211 non-null  float64\n",
            " 3   DESIBEL         17211 non-null  float64\n",
            " 4   AIRFLOW         17211 non-null  float64\n",
            " 5   FREQUENCY       17211 non-null  float64\n",
            " 6   BOS             17211 non-null  float64\n",
            " 7   Operation_Code  17211 non-null  object \n",
            " 8   STATUS          17211 non-null  int64  \n",
            "dtypes: float64(5), int64(2), object(2)\n",
            "memory usage: 1.3+ MB\n"
          ]
        }
      ],
      "source": [
        "#print information about the Data after remove null values that we found in 'FREQUENCY' column\n",
        "Data.info()"
      ]
    },
    {
      "cell_type": "code",
      "execution_count": null,
      "id": "566157b8",
      "metadata": {
        "id": "566157b8"
      },
      "outputs": [],
      "source": [
        "#remove outliers from column 'DESIBEL'\n",
        "#remove all data that bigger than max and smaller than min after we calculate max, min values\n",
        "#by change all outlier values to null vales to drop them \n",
        "for i in ['DESIBEL']:\n",
        "    Q75,Q25 = np.percentile(Data.loc[:,i],[75,25])\n",
        "    intr_qr = Q75-Q25\n",
        " \n",
        "    max = Q75+(1.5*intr_qr)\n",
        "    min = Q25-(1.5*intr_qr)\n",
        " \n",
        "    Data.loc[Data[i] < min,i] = np.nan\n",
        "    Data.loc[Data[i] > max,i] = np.nan"
      ]
    },
    {
      "cell_type": "code",
      "execution_count": null,
      "id": "56724ef3",
      "metadata": {
        "id": "56724ef3",
        "outputId": "a9a8ca89-9960-4ea0-d50c-b4367a5993cd"
      },
      "outputs": [
        {
          "data": {
            "text/plain": [
              "SIZE              0\n",
              "FUEL              0\n",
              "DISTANCE          0\n",
              "DESIBEL           2\n",
              "AIRFLOW           0\n",
              "FREQUENCY         0\n",
              "BOS               0\n",
              "Operation_Code    0\n",
              "STATUS            0\n",
              "dtype: int64"
            ]
          },
          "execution_count": 547,
          "metadata": {},
          "output_type": "execute_result"
        }
      ],
      "source": [
        "#sum all null vales in 'DESIBEL' column\n",
        "Data.isnull().sum()"
      ]
    },
    {
      "cell_type": "code",
      "execution_count": null,
      "id": "935ec727",
      "metadata": {
        "id": "935ec727"
      },
      "outputs": [],
      "source": [
        "#drop all null values that we found in column 'DESIBEL'\n",
        "Data = Data.dropna(axis = 0)"
      ]
    },
    {
      "cell_type": "code",
      "execution_count": null,
      "id": "20ea920b",
      "metadata": {
        "id": "20ea920b",
        "outputId": "18ba1d24-918a-468b-d7f5-7dbf1ef59b08"
      },
      "outputs": [
        {
          "name": "stdout",
          "output_type": "stream",
          "text": [
            "<class 'pandas.core.frame.DataFrame'>\n",
            "Int64Index: 17209 entries, 2 to 17445\n",
            "Data columns (total 9 columns):\n",
            " #   Column          Non-Null Count  Dtype  \n",
            "---  ------          --------------  -----  \n",
            " 0   SIZE            17209 non-null  int64  \n",
            " 1   FUEL            17209 non-null  object \n",
            " 2   DISTANCE        17209 non-null  float64\n",
            " 3   DESIBEL         17209 non-null  float64\n",
            " 4   AIRFLOW         17209 non-null  float64\n",
            " 5   FREQUENCY       17209 non-null  float64\n",
            " 6   BOS             17209 non-null  float64\n",
            " 7   Operation_Code  17209 non-null  object \n",
            " 8   STATUS          17209 non-null  int64  \n",
            "dtypes: float64(5), int64(2), object(2)\n",
            "memory usage: 1.3+ MB\n"
          ]
        }
      ],
      "source": [
        "#print information about the Data after remove null values that we found in 'DESIBEL' column\n",
        "Data.info()"
      ]
    },
    {
      "cell_type": "code",
      "execution_count": null,
      "id": "a43849ef",
      "metadata": {
        "id": "a43849ef",
        "outputId": "2d5908b1-9b7c-488c-af53-869e1642edcf"
      },
      "outputs": [
        {
          "data": {
            "text/plain": [
              "<AxesSubplot:>"
            ]
          },
          "execution_count": 550,
          "metadata": {},
          "output_type": "execute_result"
        },
        {
          "data": {
            "image/png": "[encoded data removed]",
            "text/plain": [
              "<Figure size 720x432 with 1 Axes>"
            ]
          },
          "metadata": {
            "needs_background": "light"
          },
          "output_type": "display_data"
        }
      ],
      "source": [
        "#boxplot after cleaning the data from noise,null and remove outliers\n",
        "plt.figure(figsize = (10, 6))\n",
        "Data.boxplot()"
      ]
    },
    {
      "cell_type": "code",
      "execution_count": null,
      "id": "cdd76fad",
      "metadata": {
        "scrolled": true,
        "id": "cdd76fad",
        "outputId": "48a24164-0a65-4ae9-b9a3-71ef6b1c62ff"
      },
      "outputs": [
        {
          "data": {
            "text/html": [
              "<div>\n",
              "<style scoped>\n",
              "    .dataframe tbody tr th:only-of-type {\n",
              "        vertical-align: middle;\n",
              "    }\n",
              "\n",
              "    .dataframe tbody tr th {\n",
              "        vertical-align: top;\n",
              "    }\n",
              "\n",
              "    .dataframe thead th {\n",
              "        text-align: right;\n",
              "    }\n",
              "</style>\n",
              "<table border=\"1\" class=\"dataframe\">\n",
              "  <thead>\n",
              "    <tr style=\"text-align: right;\">\n",
              "      <th></th>\n",
              "      <th>SIZE</th>\n",
              "      <th>FUEL</th>\n",
              "      <th>DISTANCE</th>\n",
              "      <th>DESIBEL</th>\n",
              "      <th>AIRFLOW</th>\n",
              "      <th>FREQUENCY</th>\n",
              "      <th>BOS</th>\n",
              "      <th>Operation_Code</th>\n",
              "      <th>STATUS</th>\n",
              "    </tr>\n",
              "  </thead>\n",
              "  <tbody>\n",
              "    <tr>\n",
              "      <th>6936</th>\n",
              "      <td>4</td>\n",
              "      <td>thinner</td>\n",
              "      <td>160.0</td>\n",
              "      <td>105.0</td>\n",
              "      <td>4.4</td>\n",
              "      <td>36.0</td>\n",
              "      <td>304.75</td>\n",
              "      <td>35970</td>\n",
              "      <td>0</td>\n",
              "    </tr>\n",
              "    <tr>\n",
              "      <th>6937</th>\n",
              "      <td>6</td>\n",
              "      <td>lpg</td>\n",
              "      <td>90.0</td>\n",
              "      <td>102.0</td>\n",
              "      <td>0.0</td>\n",
              "      <td>68.0</td>\n",
              "      <td>272.10</td>\n",
              "      <td>47559b</td>\n",
              "      <td>0</td>\n",
              "    </tr>\n",
              "    <tr>\n",
              "      <th>6938</th>\n",
              "      <td>1</td>\n",
              "      <td>gasoline</td>\n",
              "      <td>180.0</td>\n",
              "      <td>87.0</td>\n",
              "      <td>2.8</td>\n",
              "      <td>5.0</td>\n",
              "      <td>225.85</td>\n",
              "      <td>47580</td>\n",
              "      <td>0</td>\n",
              "    </tr>\n",
              "    <tr>\n",
              "      <th>6939</th>\n",
              "      <td>2</td>\n",
              "      <td>thinner</td>\n",
              "      <td>170.0</td>\n",
              "      <td>76.0</td>\n",
              "      <td>0.0</td>\n",
              "      <td>1.0</td>\n",
              "      <td>225.80</td>\n",
              "      <td>47591d</td>\n",
              "      <td>0</td>\n",
              "    </tr>\n",
              "    <tr>\n",
              "      <th>7885</th>\n",
              "      <td>3</td>\n",
              "      <td>kerosene</td>\n",
              "      <td>60.0</td>\n",
              "      <td>105.0</td>\n",
              "      <td>12.5</td>\n",
              "      <td>50.0</td>\n",
              "      <td>310.75</td>\n",
              "      <td>22749</td>\n",
              "      <td>1</td>\n",
              "    </tr>\n",
              "  </tbody>\n",
              "</table>\n",
              "</div>"
            ],
            "text/plain": [
              "      SIZE      FUEL  DISTANCE  DESIBEL  AIRFLOW  FREQUENCY     BOS  \\\n",
              "6936     4   thinner     160.0    105.0      4.4       36.0  304.75   \n",
              "6937     6       lpg      90.0    102.0      0.0       68.0  272.10   \n",
              "6938     1  gasoline     180.0     87.0      2.8        5.0  225.85   \n",
              "6939     2   thinner     170.0     76.0      0.0        1.0  225.80   \n",
              "7885     3  kerosene      60.0    105.0     12.5       50.0  310.75   \n",
              "\n",
              "     Operation_Code  STATUS  \n",
              "6936          35970       0  \n",
              "6937         47559b       0  \n",
              "6938          47580       0  \n",
              "6939         47591d       0  \n",
              "7885          22749       1  "
            ]
          },
          "execution_count": 551,
          "metadata": {},
          "output_type": "execute_result"
        }
      ],
      "source": [
        "#show the duplicate\n",
        "Data[Data.duplicated()].head()"
      ]
    },
    {
      "cell_type": "code",
      "execution_count": null,
      "id": "2a7b89bf",
      "metadata": {
        "id": "2a7b89bf",
        "outputId": "6a946f22-5062-4f9e-c71a-5c1eaa5222ea"
      },
      "outputs": [
        {
          "data": {
            "text/plain": [
              "80"
            ]
          },
          "execution_count": 552,
          "metadata": {},
          "output_type": "execute_result"
        }
      ],
      "source": [
        "#sum all duplicated data\n",
        "Data.duplicated().sum()"
      ]
    },
    {
      "cell_type": "code",
      "execution_count": null,
      "id": "2dee2dc2",
      "metadata": {
        "id": "2dee2dc2"
      },
      "outputs": [],
      "source": [
        "#drop all duplicated data\n",
        "Data.drop_duplicates(inplace=True)"
      ]
    },
    {
      "cell_type": "code",
      "execution_count": null,
      "id": "6823e863",
      "metadata": {
        "id": "6823e863",
        "outputId": "5857fcf9-bb02-4127-e769-0303fa546e28"
      },
      "outputs": [
        {
          "data": {
            "text/plain": [
              "0"
            ]
          },
          "execution_count": 554,
          "metadata": {},
          "output_type": "execute_result"
        }
      ],
      "source": [
        "#sum all duplicate data to make sure that there is no duplication\n",
        "Data.duplicated().sum()"
      ]
    },
    {
      "cell_type": "code",
      "execution_count": null,
      "id": "6c2b9d45",
      "metadata": {
        "id": "6c2b9d45",
        "outputId": "9f238688-82c6-4252-b219-54df3602f0b4"
      },
      "outputs": [
        {
          "data": {
            "text/html": [
              "<div>\n",
              "<style scoped>\n",
              "    .dataframe tbody tr th:only-of-type {\n",
              "        vertical-align: middle;\n",
              "    }\n",
              "\n",
              "    .dataframe tbody tr th {\n",
              "        vertical-align: top;\n",
              "    }\n",
              "\n",
              "    .dataframe thead th {\n",
              "        text-align: right;\n",
              "    }\n",
              "</style>\n",
              "<table border=\"1\" class=\"dataframe\">\n",
              "  <thead>\n",
              "    <tr style=\"text-align: right;\">\n",
              "      <th></th>\n",
              "      <th>SIZE</th>\n",
              "      <th>FUEL</th>\n",
              "      <th>DISTANCE</th>\n",
              "      <th>DESIBEL</th>\n",
              "      <th>AIRFLOW</th>\n",
              "      <th>FREQUENCY</th>\n",
              "      <th>BOS</th>\n",
              "      <th>STATUS</th>\n",
              "    </tr>\n",
              "  </thead>\n",
              "  <tbody>\n",
              "    <tr>\n",
              "      <th>2</th>\n",
              "      <td>4</td>\n",
              "      <td>thinner</td>\n",
              "      <td>160.0</td>\n",
              "      <td>105.0</td>\n",
              "      <td>4.4</td>\n",
              "      <td>36.0</td>\n",
              "      <td>304.75</td>\n",
              "      <td>0</td>\n",
              "    </tr>\n",
              "    <tr>\n",
              "      <th>3</th>\n",
              "      <td>6</td>\n",
              "      <td>lpg</td>\n",
              "      <td>90.0</td>\n",
              "      <td>102.0</td>\n",
              "      <td>0.0</td>\n",
              "      <td>68.0</td>\n",
              "      <td>272.10</td>\n",
              "      <td>0</td>\n",
              "    </tr>\n",
              "    <tr>\n",
              "      <th>4</th>\n",
              "      <td>1</td>\n",
              "      <td>gasoline</td>\n",
              "      <td>180.0</td>\n",
              "      <td>87.0</td>\n",
              "      <td>2.8</td>\n",
              "      <td>5.0</td>\n",
              "      <td>225.85</td>\n",
              "      <td>0</td>\n",
              "    </tr>\n",
              "    <tr>\n",
              "      <th>5</th>\n",
              "      <td>2</td>\n",
              "      <td>thinner</td>\n",
              "      <td>170.0</td>\n",
              "      <td>76.0</td>\n",
              "      <td>0.0</td>\n",
              "      <td>1.0</td>\n",
              "      <td>225.80</td>\n",
              "      <td>0</td>\n",
              "    </tr>\n",
              "    <tr>\n",
              "      <th>6</th>\n",
              "      <td>2</td>\n",
              "      <td>kerosene</td>\n",
              "      <td>80.0</td>\n",
              "      <td>75.0</td>\n",
              "      <td>0.0</td>\n",
              "      <td>1.0</td>\n",
              "      <td>217.25</td>\n",
              "      <td>0</td>\n",
              "    </tr>\n",
              "    <tr>\n",
              "      <th>...</th>\n",
              "      <td>...</td>\n",
              "      <td>...</td>\n",
              "      <td>...</td>\n",
              "      <td>...</td>\n",
              "      <td>...</td>\n",
              "      <td>...</td>\n",
              "      <td>...</td>\n",
              "      <td>...</td>\n",
              "    </tr>\n",
              "    <tr>\n",
              "      <th>17440</th>\n",
              "      <td>1</td>\n",
              "      <td>thinner</td>\n",
              "      <td>80.0</td>\n",
              "      <td>106.0</td>\n",
              "      <td>11.2</td>\n",
              "      <td>46.0</td>\n",
              "      <td>275.30</td>\n",
              "      <td>1</td>\n",
              "    </tr>\n",
              "    <tr>\n",
              "      <th>17441</th>\n",
              "      <td>2</td>\n",
              "      <td>thinner</td>\n",
              "      <td>50.0</td>\n",
              "      <td>82.0</td>\n",
              "      <td>3.2</td>\n",
              "      <td>2.0</td>\n",
              "      <td>250.10</td>\n",
              "      <td>0</td>\n",
              "    </tr>\n",
              "    <tr>\n",
              "      <th>17442</th>\n",
              "      <td>5</td>\n",
              "      <td>kerosene</td>\n",
              "      <td>160.0</td>\n",
              "      <td>94.0</td>\n",
              "      <td>1.9</td>\n",
              "      <td>55.0</td>\n",
              "      <td>251.70</td>\n",
              "      <td>0</td>\n",
              "    </tr>\n",
              "    <tr>\n",
              "      <th>17444</th>\n",
              "      <td>1</td>\n",
              "      <td>kerosene</td>\n",
              "      <td>20.0</td>\n",
              "      <td>105.0</td>\n",
              "      <td>13.5</td>\n",
              "      <td>30.0</td>\n",
              "      <td>307.75</td>\n",
              "      <td>1</td>\n",
              "    </tr>\n",
              "    <tr>\n",
              "      <th>17445</th>\n",
              "      <td>1</td>\n",
              "      <td>gasoline</td>\n",
              "      <td>20.0</td>\n",
              "      <td>91.0</td>\n",
              "      <td>11.9</td>\n",
              "      <td>12.0</td>\n",
              "      <td>244.05</td>\n",
              "      <td>1</td>\n",
              "    </tr>\n",
              "  </tbody>\n",
              "</table>\n",
              "<p>17129 rows × 8 columns</p>\n",
              "</div>"
            ],
            "text/plain": [
              "       SIZE      FUEL  DISTANCE  DESIBEL  AIRFLOW  FREQUENCY     BOS  STATUS\n",
              "2         4   thinner     160.0    105.0      4.4       36.0  304.75       0\n",
              "3         6       lpg      90.0    102.0      0.0       68.0  272.10       0\n",
              "4         1  gasoline     180.0     87.0      2.8        5.0  225.85       0\n",
              "5         2   thinner     170.0     76.0      0.0        1.0  225.80       0\n",
              "6         2  kerosene      80.0     75.0      0.0        1.0  217.25       0\n",
              "...     ...       ...       ...      ...      ...        ...     ...     ...\n",
              "17440     1   thinner      80.0    106.0     11.2       46.0  275.30       1\n",
              "17441     2   thinner      50.0     82.0      3.2        2.0  250.10       0\n",
              "17442     5  kerosene     160.0     94.0      1.9       55.0  251.70       0\n",
              "17444     1  kerosene      20.0    105.0     13.5       30.0  307.75       1\n",
              "17445     1  gasoline      20.0     91.0     11.9       12.0  244.05       1\n",
              "\n",
              "[17129 rows x 8 columns]"
            ]
          },
          "execution_count": 555,
          "metadata": {},
          "output_type": "execute_result"
        }
      ],
      "source": [
        "#this column don't related to our output(status)so we remove it\n",
        "Data=Data.drop(columns=\"Operation_Code\")\n",
        "Data"
      ]
    },
    {
      "cell_type": "code",
      "execution_count": null,
      "id": "e500dc80",
      "metadata": {
        "id": "e500dc80",
        "outputId": "16edc789-48c1-4b80-b4fb-9c874470b903"
      },
      "outputs": [
        {
          "data": {
            "text/html": [
              "<div>\n",
              "<style scoped>\n",
              "    .dataframe tbody tr th:only-of-type {\n",
              "        vertical-align: middle;\n",
              "    }\n",
              "\n",
              "    .dataframe tbody tr th {\n",
              "        vertical-align: top;\n",
              "    }\n",
              "\n",
              "    .dataframe thead th {\n",
              "        text-align: right;\n",
              "    }\n",
              "</style>\n",
              "<table border=\"1\" class=\"dataframe\">\n",
              "  <thead>\n",
              "    <tr style=\"text-align: right;\">\n",
              "      <th></th>\n",
              "      <th>SIZE</th>\n",
              "      <th>DISTANCE</th>\n",
              "      <th>DESIBEL</th>\n",
              "      <th>AIRFLOW</th>\n",
              "      <th>FREQUENCY</th>\n",
              "      <th>BOS</th>\n",
              "      <th>STATUS</th>\n",
              "    </tr>\n",
              "  </thead>\n",
              "  <tbody>\n",
              "    <tr>\n",
              "      <th>SIZE</th>\n",
              "      <td>1.000000</td>\n",
              "      <td>-0.001222</td>\n",
              "      <td>0.000578</td>\n",
              "      <td>0.000070</td>\n",
              "      <td>-0.000310</td>\n",
              "      <td>0.001389</td>\n",
              "      <td>-0.097070</td>\n",
              "    </tr>\n",
              "    <tr>\n",
              "      <th>DISTANCE</th>\n",
              "      <td>-0.001222</td>\n",
              "      <td>1.000000</td>\n",
              "      <td>-0.238583</td>\n",
              "      <td>-0.708477</td>\n",
              "      <td>0.002117</td>\n",
              "      <td>-0.197739</td>\n",
              "      <td>-0.644349</td>\n",
              "    </tr>\n",
              "    <tr>\n",
              "      <th>DESIBEL</th>\n",
              "      <td>0.000578</td>\n",
              "      <td>-0.238583</td>\n",
              "      <td>1.000000</td>\n",
              "      <td>0.369381</td>\n",
              "      <td>0.557475</td>\n",
              "      <td>0.812272</td>\n",
              "      <td>0.197569</td>\n",
              "    </tr>\n",
              "    <tr>\n",
              "      <th>AIRFLOW</th>\n",
              "      <td>0.000070</td>\n",
              "      <td>-0.708477</td>\n",
              "      <td>0.369381</td>\n",
              "      <td>1.000000</td>\n",
              "      <td>-0.221464</td>\n",
              "      <td>0.303507</td>\n",
              "      <td>0.760283</td>\n",
              "    </tr>\n",
              "    <tr>\n",
              "      <th>FREQUENCY</th>\n",
              "      <td>-0.000310</td>\n",
              "      <td>0.002117</td>\n",
              "      <td>0.557475</td>\n",
              "      <td>-0.221464</td>\n",
              "      <td>1.000000</td>\n",
              "      <td>0.452123</td>\n",
              "      <td>-0.250557</td>\n",
              "    </tr>\n",
              "    <tr>\n",
              "      <th>BOS</th>\n",
              "      <td>0.001389</td>\n",
              "      <td>-0.197739</td>\n",
              "      <td>0.812272</td>\n",
              "      <td>0.303507</td>\n",
              "      <td>0.452123</td>\n",
              "      <td>1.000000</td>\n",
              "      <td>0.159832</td>\n",
              "    </tr>\n",
              "    <tr>\n",
              "      <th>STATUS</th>\n",
              "      <td>-0.097070</td>\n",
              "      <td>-0.644349</td>\n",
              "      <td>0.197569</td>\n",
              "      <td>0.760283</td>\n",
              "      <td>-0.250557</td>\n",
              "      <td>0.159832</td>\n",
              "      <td>1.000000</td>\n",
              "    </tr>\n",
              "  </tbody>\n",
              "</table>\n",
              "</div>"
            ],
            "text/plain": [
              "               SIZE  DISTANCE   DESIBEL   AIRFLOW  FREQUENCY       BOS  \\\n",
              "SIZE       1.000000 -0.001222  0.000578  0.000070  -0.000310  0.001389   \n",
              "DISTANCE  -0.001222  1.000000 -0.238583 -0.708477   0.002117 -0.197739   \n",
              "DESIBEL    0.000578 -0.238583  1.000000  0.369381   0.557475  0.812272   \n",
              "AIRFLOW    0.000070 -0.708477  0.369381  1.000000  -0.221464  0.303507   \n",
              "FREQUENCY -0.000310  0.002117  0.557475 -0.221464   1.000000  0.452123   \n",
              "BOS        0.001389 -0.197739  0.812272  0.303507   0.452123  1.000000   \n",
              "STATUS    -0.097070 -0.644349  0.197569  0.760283  -0.250557  0.159832   \n",
              "\n",
              "             STATUS  \n",
              "SIZE      -0.097070  \n",
              "DISTANCE  -0.644349  \n",
              "DESIBEL    0.197569  \n",
              "AIRFLOW    0.760283  \n",
              "FREQUENCY -0.250557  \n",
              "BOS        0.159832  \n",
              "STATUS     1.000000  "
            ]
          },
          "execution_count": 556,
          "metadata": {},
          "output_type": "execute_result"
        }
      ],
      "source": [
        "#create a matrix filled with correlation values for each two columns\n",
        "Data.corr()"
      ]
    },
    {
      "cell_type": "code",
      "execution_count": null,
      "id": "e3db528f",
      "metadata": {
        "id": "e3db528f",
        "outputId": "6be0277e-3f7b-452b-94cc-ca5a7bd0a900"
      },
      "outputs": [
        {
          "data": {
            "text/html": [
              "<div>\n",
              "<style scoped>\n",
              "    .dataframe tbody tr th:only-of-type {\n",
              "        vertical-align: middle;\n",
              "    }\n",
              "\n",
              "    .dataframe tbody tr th {\n",
              "        vertical-align: top;\n",
              "    }\n",
              "\n",
              "    .dataframe thead th {\n",
              "        text-align: right;\n",
              "    }\n",
              "</style>\n",
              "<table border=\"1\" class=\"dataframe\">\n",
              "  <thead>\n",
              "    <tr style=\"text-align: right;\">\n",
              "      <th></th>\n",
              "      <th>SIZE</th>\n",
              "      <th>DISTANCE</th>\n",
              "      <th>DESIBEL</th>\n",
              "      <th>AIRFLOW</th>\n",
              "      <th>FREQUENCY</th>\n",
              "      <th>BOS</th>\n",
              "      <th>STATUS</th>\n",
              "    </tr>\n",
              "  </thead>\n",
              "  <tbody>\n",
              "    <tr>\n",
              "      <th>SIZE</th>\n",
              "      <td>1.000000</td>\n",
              "      <td>0.001222</td>\n",
              "      <td>0.000578</td>\n",
              "      <td>0.000070</td>\n",
              "      <td>0.000310</td>\n",
              "      <td>0.001389</td>\n",
              "      <td>0.097070</td>\n",
              "    </tr>\n",
              "    <tr>\n",
              "      <th>DISTANCE</th>\n",
              "      <td>0.001222</td>\n",
              "      <td>1.000000</td>\n",
              "      <td>0.238583</td>\n",
              "      <td>0.708477</td>\n",
              "      <td>0.002117</td>\n",
              "      <td>0.197739</td>\n",
              "      <td>0.644349</td>\n",
              "    </tr>\n",
              "    <tr>\n",
              "      <th>DESIBEL</th>\n",
              "      <td>0.000578</td>\n",
              "      <td>0.238583</td>\n",
              "      <td>1.000000</td>\n",
              "      <td>0.369381</td>\n",
              "      <td>0.557475</td>\n",
              "      <td>0.812272</td>\n",
              "      <td>0.197569</td>\n",
              "    </tr>\n",
              "    <tr>\n",
              "      <th>AIRFLOW</th>\n",
              "      <td>0.000070</td>\n",
              "      <td>0.708477</td>\n",
              "      <td>0.369381</td>\n",
              "      <td>1.000000</td>\n",
              "      <td>0.221464</td>\n",
              "      <td>0.303507</td>\n",
              "      <td>0.760283</td>\n",
              "    </tr>\n",
              "    <tr>\n",
              "      <th>FREQUENCY</th>\n",
              "      <td>0.000310</td>\n",
              "      <td>0.002117</td>\n",
              "      <td>0.557475</td>\n",
              "      <td>0.221464</td>\n",
              "      <td>1.000000</td>\n",
              "      <td>0.452123</td>\n",
              "      <td>0.250557</td>\n",
              "    </tr>\n",
              "    <tr>\n",
              "      <th>BOS</th>\n",
              "      <td>0.001389</td>\n",
              "      <td>0.197739</td>\n",
              "      <td>0.812272</td>\n",
              "      <td>0.303507</td>\n",
              "      <td>0.452123</td>\n",
              "      <td>1.000000</td>\n",
              "      <td>0.159832</td>\n",
              "    </tr>\n",
              "    <tr>\n",
              "      <th>STATUS</th>\n",
              "      <td>0.097070</td>\n",
              "      <td>0.644349</td>\n",
              "      <td>0.197569</td>\n",
              "      <td>0.760283</td>\n",
              "      <td>0.250557</td>\n",
              "      <td>0.159832</td>\n",
              "      <td>1.000000</td>\n",
              "    </tr>\n",
              "  </tbody>\n",
              "</table>\n",
              "</div>"
            ],
            "text/plain": [
              "               SIZE  DISTANCE   DESIBEL   AIRFLOW  FREQUENCY       BOS  \\\n",
              "SIZE       1.000000  0.001222  0.000578  0.000070   0.000310  0.001389   \n",
              "DISTANCE   0.001222  1.000000  0.238583  0.708477   0.002117  0.197739   \n",
              "DESIBEL    0.000578  0.238583  1.000000  0.369381   0.557475  0.812272   \n",
              "AIRFLOW    0.000070  0.708477  0.369381  1.000000   0.221464  0.303507   \n",
              "FREQUENCY  0.000310  0.002117  0.557475  0.221464   1.000000  0.452123   \n",
              "BOS        0.001389  0.197739  0.812272  0.303507   0.452123  1.000000   \n",
              "STATUS     0.097070  0.644349  0.197569  0.760283   0.250557  0.159832   \n",
              "\n",
              "             STATUS  \n",
              "SIZE       0.097070  \n",
              "DISTANCE   0.644349  \n",
              "DESIBEL    0.197569  \n",
              "AIRFLOW    0.760283  \n",
              "FREQUENCY  0.250557  \n",
              "BOS        0.159832  \n",
              "STATUS     1.000000  "
            ]
          },
          "execution_count": 557,
          "metadata": {},
          "output_type": "execute_result"
        }
      ],
      "source": [
        "#create a matrix filled with correlation values for each two columns with absolute value\n",
        "CorrelationMatrix = Data.corr().abs()\n",
        "CorrelationMatrix"
      ]
    },
    {
      "cell_type": "code",
      "execution_count": null,
      "id": "506b2bd8",
      "metadata": {
        "id": "506b2bd8",
        "outputId": "3880b67b-adc2-4f32-8989-7920938796c8"
      },
      "outputs": [
        {
          "name": "stderr",
          "output_type": "stream",
          "text": [
            "C:\\Users\\MCC\\AppData\\Local\\Temp/ipykernel_2752/2541172571.py:2: DeprecationWarning: `np.bool` is a deprecated alias for the builtin `bool`. To silence this warning, use `bool` by itself. Doing this will not modify any behavior and is safe. If you specifically wanted the numpy scalar type, use `np.bool_` here.\n",
            "Deprecated in NumPy 1.20; for more details and guidance: https://numpy.org/devdocs/release/1.20.0-notes.html#deprecations\n",
            "  up_tri = CorrelationMatrix.where(np.triu(np.ones(CorrelationMatrix.shape),k=1).astype(np.bool))\n"
          ]
        },
        {
          "data": {
            "text/html": [
              "<div>\n",
              "<style scoped>\n",
              "    .dataframe tbody tr th:only-of-type {\n",
              "        vertical-align: middle;\n",
              "    }\n",
              "\n",
              "    .dataframe tbody tr th {\n",
              "        vertical-align: top;\n",
              "    }\n",
              "\n",
              "    .dataframe thead th {\n",
              "        text-align: right;\n",
              "    }\n",
              "</style>\n",
              "<table border=\"1\" class=\"dataframe\">\n",
              "  <thead>\n",
              "    <tr style=\"text-align: right;\">\n",
              "      <th></th>\n",
              "      <th>SIZE</th>\n",
              "      <th>DISTANCE</th>\n",
              "      <th>DESIBEL</th>\n",
              "      <th>AIRFLOW</th>\n",
              "      <th>FREQUENCY</th>\n",
              "      <th>BOS</th>\n",
              "      <th>STATUS</th>\n",
              "    </tr>\n",
              "  </thead>\n",
              "  <tbody>\n",
              "    <tr>\n",
              "      <th>SIZE</th>\n",
              "      <td>NaN</td>\n",
              "      <td>0.001222</td>\n",
              "      <td>0.000578</td>\n",
              "      <td>0.000070</td>\n",
              "      <td>0.000310</td>\n",
              "      <td>0.001389</td>\n",
              "      <td>0.097070</td>\n",
              "    </tr>\n",
              "    <tr>\n",
              "      <th>DISTANCE</th>\n",
              "      <td>NaN</td>\n",
              "      <td>NaN</td>\n",
              "      <td>0.238583</td>\n",
              "      <td>0.708477</td>\n",
              "      <td>0.002117</td>\n",
              "      <td>0.197739</td>\n",
              "      <td>0.644349</td>\n",
              "    </tr>\n",
              "    <tr>\n",
              "      <th>DESIBEL</th>\n",
              "      <td>NaN</td>\n",
              "      <td>NaN</td>\n",
              "      <td>NaN</td>\n",
              "      <td>0.369381</td>\n",
              "      <td>0.557475</td>\n",
              "      <td>0.812272</td>\n",
              "      <td>0.197569</td>\n",
              "    </tr>\n",
              "    <tr>\n",
              "      <th>AIRFLOW</th>\n",
              "      <td>NaN</td>\n",
              "      <td>NaN</td>\n",
              "      <td>NaN</td>\n",
              "      <td>NaN</td>\n",
              "      <td>0.221464</td>\n",
              "      <td>0.303507</td>\n",
              "      <td>0.760283</td>\n",
              "    </tr>\n",
              "    <tr>\n",
              "      <th>FREQUENCY</th>\n",
              "      <td>NaN</td>\n",
              "      <td>NaN</td>\n",
              "      <td>NaN</td>\n",
              "      <td>NaN</td>\n",
              "      <td>NaN</td>\n",
              "      <td>0.452123</td>\n",
              "      <td>0.250557</td>\n",
              "    </tr>\n",
              "    <tr>\n",
              "      <th>BOS</th>\n",
              "      <td>NaN</td>\n",
              "      <td>NaN</td>\n",
              "      <td>NaN</td>\n",
              "      <td>NaN</td>\n",
              "      <td>NaN</td>\n",
              "      <td>NaN</td>\n",
              "      <td>0.159832</td>\n",
              "    </tr>\n",
              "    <tr>\n",
              "      <th>STATUS</th>\n",
              "      <td>NaN</td>\n",
              "      <td>NaN</td>\n",
              "      <td>NaN</td>\n",
              "      <td>NaN</td>\n",
              "      <td>NaN</td>\n",
              "      <td>NaN</td>\n",
              "      <td>NaN</td>\n",
              "    </tr>\n",
              "  </tbody>\n",
              "</table>\n",
              "</div>"
            ],
            "text/plain": [
              "           SIZE  DISTANCE   DESIBEL   AIRFLOW  FREQUENCY       BOS    STATUS\n",
              "SIZE        NaN  0.001222  0.000578  0.000070   0.000310  0.001389  0.097070\n",
              "DISTANCE    NaN       NaN  0.238583  0.708477   0.002117  0.197739  0.644349\n",
              "DESIBEL     NaN       NaN       NaN  0.369381   0.557475  0.812272  0.197569\n",
              "AIRFLOW     NaN       NaN       NaN       NaN   0.221464  0.303507  0.760283\n",
              "FREQUENCY   NaN       NaN       NaN       NaN        NaN  0.452123  0.250557\n",
              "BOS         NaN       NaN       NaN       NaN        NaN       NaN  0.159832\n",
              "STATUS      NaN       NaN       NaN       NaN        NaN       NaN       NaN"
            ]
          },
          "execution_count": 558,
          "metadata": {},
          "output_type": "execute_result"
        }
      ],
      "source": [
        "#Selecting the Upper triangular matrix\n",
        "up_tri = CorrelationMatrix.where(np.triu(np.ones(CorrelationMatrix.shape),k=1).astype(np.bool))\n",
        "up_tri"
      ]
    },
    {
      "cell_type": "code",
      "execution_count": null,
      "id": "b0de16a3",
      "metadata": {
        "id": "b0de16a3",
        "outputId": "15767086-8f1f-44bb-a86d-dc07c49b8811"
      },
      "outputs": [
        {
          "name": "stdout",
          "output_type": "stream",
          "text": [
            "['BOS']\n"
          ]
        }
      ],
      "source": [
        "#this method help us to know which columns with high correlation that we will drop\n",
        "C_drop = [column for column in up_tri.columns if any(up_tri[column] >= 0.8)]\n",
        "print(C_drop)"
      ]
    },
    {
      "cell_type": "code",
      "execution_count": null,
      "id": "5e729d35",
      "metadata": {
        "id": "5e729d35",
        "outputId": "3ffb9637-c980-4963-aa7f-62ec4a014ca2"
      },
      "outputs": [
        {
          "data": {
            "text/html": [
              "<div>\n",
              "<style scoped>\n",
              "    .dataframe tbody tr th:only-of-type {\n",
              "        vertical-align: middle;\n",
              "    }\n",
              "\n",
              "    .dataframe tbody tr th {\n",
              "        vertical-align: top;\n",
              "    }\n",
              "\n",
              "    .dataframe thead th {\n",
              "        text-align: right;\n",
              "    }\n",
              "</style>\n",
              "<table border=\"1\" class=\"dataframe\">\n",
              "  <thead>\n",
              "    <tr style=\"text-align: right;\">\n",
              "      <th></th>\n",
              "      <th>SIZE</th>\n",
              "      <th>FUEL</th>\n",
              "      <th>DISTANCE</th>\n",
              "      <th>DESIBEL</th>\n",
              "      <th>AIRFLOW</th>\n",
              "      <th>FREQUENCY</th>\n",
              "      <th>STATUS</th>\n",
              "    </tr>\n",
              "  </thead>\n",
              "  <tbody>\n",
              "    <tr>\n",
              "      <th>2</th>\n",
              "      <td>4</td>\n",
              "      <td>thinner</td>\n",
              "      <td>160.0</td>\n",
              "      <td>105.0</td>\n",
              "      <td>4.4</td>\n",
              "      <td>36.0</td>\n",
              "      <td>0</td>\n",
              "    </tr>\n",
              "    <tr>\n",
              "      <th>3</th>\n",
              "      <td>6</td>\n",
              "      <td>lpg</td>\n",
              "      <td>90.0</td>\n",
              "      <td>102.0</td>\n",
              "      <td>0.0</td>\n",
              "      <td>68.0</td>\n",
              "      <td>0</td>\n",
              "    </tr>\n",
              "    <tr>\n",
              "      <th>4</th>\n",
              "      <td>1</td>\n",
              "      <td>gasoline</td>\n",
              "      <td>180.0</td>\n",
              "      <td>87.0</td>\n",
              "      <td>2.8</td>\n",
              "      <td>5.0</td>\n",
              "      <td>0</td>\n",
              "    </tr>\n",
              "    <tr>\n",
              "      <th>5</th>\n",
              "      <td>2</td>\n",
              "      <td>thinner</td>\n",
              "      <td>170.0</td>\n",
              "      <td>76.0</td>\n",
              "      <td>0.0</td>\n",
              "      <td>1.0</td>\n",
              "      <td>0</td>\n",
              "    </tr>\n",
              "    <tr>\n",
              "      <th>6</th>\n",
              "      <td>2</td>\n",
              "      <td>kerosene</td>\n",
              "      <td>80.0</td>\n",
              "      <td>75.0</td>\n",
              "      <td>0.0</td>\n",
              "      <td>1.0</td>\n",
              "      <td>0</td>\n",
              "    </tr>\n",
              "  </tbody>\n",
              "</table>\n",
              "</div>"
            ],
            "text/plain": [
              "   SIZE      FUEL  DISTANCE  DESIBEL  AIRFLOW  FREQUENCY  STATUS\n",
              "2     4   thinner     160.0    105.0      4.4       36.0       0\n",
              "3     6       lpg      90.0    102.0      0.0       68.0       0\n",
              "4     1  gasoline     180.0     87.0      2.8        5.0       0\n",
              "5     2   thinner     170.0     76.0      0.0        1.0       0\n",
              "6     2  kerosene      80.0     75.0      0.0        1.0       0"
            ]
          },
          "execution_count": 560,
          "metadata": {},
          "output_type": "execute_result"
        }
      ],
      "source": [
        "#Drop columns  with high correlation 'BOS'\n",
        "Data=Data.drop(Data[C_drop],axis=1)\n",
        "Data.head()"
      ]
    },
    {
      "cell_type": "code",
      "execution_count": null,
      "id": "75b6bb5a",
      "metadata": {
        "id": "75b6bb5a"
      },
      "outputs": [],
      "source": [
        "#by using cut () function we do the discretization to each numerical attribute\n",
        "#T_SIZE is the types of the size which divided into 3 parts\n",
        "Data['T_SIZE'] = pd.cut(Data['SIZE'],3,labels=['small','medium','larg'])"
      ]
    },
    {
      "cell_type": "code",
      "execution_count": null,
      "id": "79a9bf43",
      "metadata": {
        "id": "79a9bf43"
      },
      "outputs": [],
      "source": [
        "#T_DISTANCE is the types of distance which divided into 5 part\n",
        "Data['T_DISTANCE'] = pd.cut(Data['DISTANCE'],5,labels=['short','Below_average','Average','Above_Average','long'])"
      ]
    },
    {
      "cell_type": "code",
      "execution_count": null,
      "id": "70ccbd76",
      "metadata": {
        "id": "70ccbd76"
      },
      "outputs": [],
      "source": [
        "#T_DESTBEL is how strong the sound\n",
        "Data['T_DESIBEL'] = pd.cut(Data['DESIBEL'],3,labels=['low','normal','high'])"
      ]
    },
    {
      "cell_type": "code",
      "execution_count": null,
      "id": "6c78e433",
      "metadata": {
        "id": "6c78e433"
      },
      "outputs": [],
      "source": [
        "#T_AIRFLOW is how much the airflow strong\n",
        "Data['T_AIRFLOW'] = pd.cut(Data['AIRFLOW'],3,labels=['low','normal','high'])"
      ]
    },
    {
      "cell_type": "code",
      "execution_count": null,
      "id": "019fc444",
      "metadata": {
        "id": "019fc444"
      },
      "outputs": [],
      "source": [
        "#T_FREQUENCY is the how strong the frequency  of each device in the system\n",
        "Data['T_FREQUENCY'] = pd.cut(Data['FREQUENCY'],3,labels=['low','normal','high'])"
      ]
    },
    {
      "cell_type": "code",
      "execution_count": null,
      "id": "2e3f5d95",
      "metadata": {
        "id": "2e3f5d95",
        "outputId": "7c79f660-bc1b-4aa4-e54e-ab130571446c"
      },
      "outputs": [
        {
          "data": {
            "text/html": [
              "<div>\n",
              "<style scoped>\n",
              "    .dataframe tbody tr th:only-of-type {\n",
              "        vertical-align: middle;\n",
              "    }\n",
              "\n",
              "    .dataframe tbody tr th {\n",
              "        vertical-align: top;\n",
              "    }\n",
              "\n",
              "    .dataframe thead th {\n",
              "        text-align: right;\n",
              "    }\n",
              "</style>\n",
              "<table border=\"1\" class=\"dataframe\">\n",
              "  <thead>\n",
              "    <tr style=\"text-align: right;\">\n",
              "      <th></th>\n",
              "      <th>SIZE</th>\n",
              "      <th>FUEL</th>\n",
              "      <th>DISTANCE</th>\n",
              "      <th>DESIBEL</th>\n",
              "      <th>AIRFLOW</th>\n",
              "      <th>FREQUENCY</th>\n",
              "      <th>STATUS</th>\n",
              "      <th>T_SIZE</th>\n",
              "      <th>T_DISTANCE</th>\n",
              "      <th>T_DESIBEL</th>\n",
              "      <th>T_AIRFLOW</th>\n",
              "      <th>T_FREQUENCY</th>\n",
              "    </tr>\n",
              "  </thead>\n",
              "  <tbody>\n",
              "    <tr>\n",
              "      <th>2</th>\n",
              "      <td>4</td>\n",
              "      <td>thinner</td>\n",
              "      <td>160.0</td>\n",
              "      <td>105.0</td>\n",
              "      <td>4.4</td>\n",
              "      <td>36.0</td>\n",
              "      <td>0</td>\n",
              "      <td>medium</td>\n",
              "      <td>long</td>\n",
              "      <td>high</td>\n",
              "      <td>low</td>\n",
              "      <td>normal</td>\n",
              "    </tr>\n",
              "    <tr>\n",
              "      <th>3</th>\n",
              "      <td>6</td>\n",
              "      <td>lpg</td>\n",
              "      <td>90.0</td>\n",
              "      <td>102.0</td>\n",
              "      <td>0.0</td>\n",
              "      <td>68.0</td>\n",
              "      <td>0</td>\n",
              "      <td>larg</td>\n",
              "      <td>Above_Average</td>\n",
              "      <td>high</td>\n",
              "      <td>low</td>\n",
              "      <td>high</td>\n",
              "    </tr>\n",
              "    <tr>\n",
              "      <th>4</th>\n",
              "      <td>1</td>\n",
              "      <td>gasoline</td>\n",
              "      <td>180.0</td>\n",
              "      <td>87.0</td>\n",
              "      <td>2.8</td>\n",
              "      <td>5.0</td>\n",
              "      <td>0</td>\n",
              "      <td>small</td>\n",
              "      <td>long</td>\n",
              "      <td>normal</td>\n",
              "      <td>low</td>\n",
              "      <td>low</td>\n",
              "    </tr>\n",
              "    <tr>\n",
              "      <th>5</th>\n",
              "      <td>2</td>\n",
              "      <td>thinner</td>\n",
              "      <td>170.0</td>\n",
              "      <td>76.0</td>\n",
              "      <td>0.0</td>\n",
              "      <td>1.0</td>\n",
              "      <td>0</td>\n",
              "      <td>small</td>\n",
              "      <td>long</td>\n",
              "      <td>low</td>\n",
              "      <td>low</td>\n",
              "      <td>low</td>\n",
              "    </tr>\n",
              "    <tr>\n",
              "      <th>6</th>\n",
              "      <td>2</td>\n",
              "      <td>kerosene</td>\n",
              "      <td>80.0</td>\n",
              "      <td>75.0</td>\n",
              "      <td>0.0</td>\n",
              "      <td>1.0</td>\n",
              "      <td>0</td>\n",
              "      <td>small</td>\n",
              "      <td>Above_Average</td>\n",
              "      <td>low</td>\n",
              "      <td>low</td>\n",
              "      <td>low</td>\n",
              "    </tr>\n",
              "    <tr>\n",
              "      <th>...</th>\n",
              "      <td>...</td>\n",
              "      <td>...</td>\n",
              "      <td>...</td>\n",
              "      <td>...</td>\n",
              "      <td>...</td>\n",
              "      <td>...</td>\n",
              "      <td>...</td>\n",
              "      <td>...</td>\n",
              "      <td>...</td>\n",
              "      <td>...</td>\n",
              "      <td>...</td>\n",
              "      <td>...</td>\n",
              "    </tr>\n",
              "    <tr>\n",
              "      <th>17440</th>\n",
              "      <td>1</td>\n",
              "      <td>thinner</td>\n",
              "      <td>80.0</td>\n",
              "      <td>106.0</td>\n",
              "      <td>11.2</td>\n",
              "      <td>46.0</td>\n",
              "      <td>1</td>\n",
              "      <td>small</td>\n",
              "      <td>Above_Average</td>\n",
              "      <td>high</td>\n",
              "      <td>normal</td>\n",
              "      <td>high</td>\n",
              "    </tr>\n",
              "    <tr>\n",
              "      <th>17441</th>\n",
              "      <td>2</td>\n",
              "      <td>thinner</td>\n",
              "      <td>50.0</td>\n",
              "      <td>82.0</td>\n",
              "      <td>3.2</td>\n",
              "      <td>2.0</td>\n",
              "      <td>0</td>\n",
              "      <td>small</td>\n",
              "      <td>Average</td>\n",
              "      <td>low</td>\n",
              "      <td>low</td>\n",
              "      <td>low</td>\n",
              "    </tr>\n",
              "    <tr>\n",
              "      <th>17442</th>\n",
              "      <td>5</td>\n",
              "      <td>kerosene</td>\n",
              "      <td>160.0</td>\n",
              "      <td>94.0</td>\n",
              "      <td>1.9</td>\n",
              "      <td>55.0</td>\n",
              "      <td>0</td>\n",
              "      <td>medium</td>\n",
              "      <td>long</td>\n",
              "      <td>normal</td>\n",
              "      <td>low</td>\n",
              "      <td>high</td>\n",
              "    </tr>\n",
              "    <tr>\n",
              "      <th>17444</th>\n",
              "      <td>1</td>\n",
              "      <td>kerosene</td>\n",
              "      <td>20.0</td>\n",
              "      <td>105.0</td>\n",
              "      <td>13.5</td>\n",
              "      <td>30.0</td>\n",
              "      <td>1</td>\n",
              "      <td>small</td>\n",
              "      <td>Average</td>\n",
              "      <td>high</td>\n",
              "      <td>high</td>\n",
              "      <td>normal</td>\n",
              "    </tr>\n",
              "    <tr>\n",
              "      <th>17445</th>\n",
              "      <td>1</td>\n",
              "      <td>gasoline</td>\n",
              "      <td>20.0</td>\n",
              "      <td>91.0</td>\n",
              "      <td>11.9</td>\n",
              "      <td>12.0</td>\n",
              "      <td>1</td>\n",
              "      <td>small</td>\n",
              "      <td>Average</td>\n",
              "      <td>normal</td>\n",
              "      <td>high</td>\n",
              "      <td>normal</td>\n",
              "    </tr>\n",
              "  </tbody>\n",
              "</table>\n",
              "<p>17129 rows × 12 columns</p>\n",
              "</div>"
            ],
            "text/plain": [
              "       SIZE      FUEL  DISTANCE  DESIBEL  AIRFLOW  FREQUENCY  STATUS  T_SIZE  \\\n",
              "2         4   thinner     160.0    105.0      4.4       36.0       0  medium   \n",
              "3         6       lpg      90.0    102.0      0.0       68.0       0    larg   \n",
              "4         1  gasoline     180.0     87.0      2.8        5.0       0   small   \n",
              "5         2   thinner     170.0     76.0      0.0        1.0       0   small   \n",
              "6         2  kerosene      80.0     75.0      0.0        1.0       0   small   \n",
              "...     ...       ...       ...      ...      ...        ...     ...     ...   \n",
              "17440     1   thinner      80.0    106.0     11.2       46.0       1   small   \n",
              "17441     2   thinner      50.0     82.0      3.2        2.0       0   small   \n",
              "17442     5  kerosene     160.0     94.0      1.9       55.0       0  medium   \n",
              "17444     1  kerosene      20.0    105.0     13.5       30.0       1   small   \n",
              "17445     1  gasoline      20.0     91.0     11.9       12.0       1   small   \n",
              "\n",
              "          T_DISTANCE T_DESIBEL T_AIRFLOW T_FREQUENCY  \n",
              "2               long      high       low      normal  \n",
              "3      Above_Average      high       low        high  \n",
              "4               long    normal       low         low  \n",
              "5               long       low       low         low  \n",
              "6      Above_Average       low       low         low  \n",
              "...              ...       ...       ...         ...  \n",
              "17440  Above_Average      high    normal        high  \n",
              "17441        Average       low       low         low  \n",
              "17442           long    normal       low        high  \n",
              "17444        Average      high      high      normal  \n",
              "17445        Average    normal      high      normal  \n",
              "\n",
              "[17129 rows x 12 columns]"
            ]
          },
          "execution_count": 566,
          "metadata": {},
          "output_type": "execute_result"
        }
      ],
      "source": [
        "#final shape for the dataset after the preprocessing on it \n",
        "Data"
      ]
    },
    {
      "cell_type": "code",
      "execution_count": null,
      "id": "3a914c0d",
      "metadata": {
        "id": "3a914c0d"
      },
      "outputs": [],
      "source": [
        "#encoding the fuel column from categorical data to numeric for the model to understand and puting it in the datafarme\n",
        "le = LabelEncoder()\n",
        "le.fit(Data[\"FUEL\"])\n",
        "Data[\"FUEL\"] = le.transform(Data[\"FUEL\"])\n",
        "# dividing data into train and test\n",
        "X_train, X_test, y_train, y_test = train_test_split(Data[[\"SIZE\",\"FUEL\", \"DISTANCE\", \"AIRFLOW\", \"FREQUENCY\"]], Data[\"STATUS\"], test_size=0.2, random_state=100)"
      ]
    },
    {
      "cell_type": "code",
      "execution_count": null,
      "id": "42018690",
      "metadata": {
        "id": "42018690",
        "outputId": "b37404ea-8b5a-4460-bcae-54bce375eec1"
      },
      "outputs": [
        {
          "data": {
            "text/plain": [
              "KNeighborsClassifier(n_neighbors=1001)"
            ]
          },
          "execution_count": 568,
          "metadata": {},
          "output_type": "execute_result"
        }
      ],
      "source": [
        "#fit training data with n_neighbors = 1001\n",
        "KNN = KNeighborsClassifier(n_neighbors = 1001)\n",
        "KNN.fit(X_train, y_train)"
      ]
    },
    {
      "cell_type": "code",
      "execution_count": null,
      "id": "a4f3fe63",
      "metadata": {
        "id": "a4f3fe63",
        "outputId": "ddd68bb3-9380-4991-f16b-ff7d173676b7"
      },
      "outputs": [
        {
          "data": {
            "text/plain": [
              "array([0, 1, 1, ..., 0, 0, 1], dtype=int64)"
            ]
          },
          "execution_count": 569,
          "metadata": {},
          "output_type": "execute_result"
        }
      ],
      "source": [
        "#predict training data with n_neighbors = 1001\n",
        "p_KNN = KNN.predict(X_test)\n",
        "p_KNN"
      ]
    },
    {
      "cell_type": "code",
      "execution_count": null,
      "id": "1c8309f0",
      "metadata": {
        "id": "1c8309f0",
        "outputId": "b6b3f3be-3776-4ed7-bcd2-4005805df0a1"
      },
      "outputs": [
        {
          "data": {
            "text/plain": [
              "0.8534734384121424"
            ]
          },
          "execution_count": 570,
          "metadata": {},
          "output_type": "execute_result"
        }
      ],
      "source": [
        "#calculate Accuracy after training\n",
        "Accuracy_KNN = accuracy_score(y_test, p_KNN)\n",
        "Accuracy_KNN"
      ]
    },
    {
      "cell_type": "code",
      "execution_count": null,
      "id": "d7fbdfc1",
      "metadata": {
        "id": "d7fbdfc1",
        "outputId": "0370c288-0477-4448-b097-10e69c868da7"
      },
      "outputs": [
        {
          "name": "stdout",
          "output_type": "stream",
          "text": [
            "[[1381  346]\n",
            " [ 156 1543]]\n"
          ]
        }
      ],
      "source": [
        "#Get the confusion matrix of KNN\n",
        "CM_KNN = confusion_matrix(y_test, p_KNN)\n",
        "print(CM_KNN)"
      ]
    },
    {
      "cell_type": "code",
      "execution_count": null,
      "id": "7244ef68",
      "metadata": {
        "id": "7244ef68",
        "outputId": "578d6ca2-edd2-4b36-a889-5a529f33c5a6"
      },
      "outputs": [
        {
          "data": {
            "image/png": "[encoded data removed]",
            "text/plain": [
              "<Figure size 432x288 with 2 Axes>"
            ]
          },
          "metadata": {
            "needs_background": "light"
          },
          "output_type": "display_data"
        }
      ],
      "source": [
        "#we use heatmap() method to return the matplotlib axes that can be stored in a variable.\n",
        "axis = sns.heatmap(CM_KNN, annot=True, cmap='Purples')\n",
        "\n",
        "#set the title of x-axis, y-axis\n",
        "axis.set_xlabel('Predicted Values')\n",
        "axis.set_ylabel('Actual Values ');\n",
        "\n",
        "#Tick labels that used to denote the datapoints on the axes and it must be in ascending order.\n",
        "axis.xaxis.set_ticklabels(['False','True'])\n",
        "axis.yaxis.set_ticklabels(['False','True'])\n",
        "\n",
        "#ploting the confusion matrix of KNN\n",
        "plt.show()"
      ]
    },
    {
      "cell_type": "code",
      "execution_count": null,
      "id": "9a7f58ea",
      "metadata": {
        "id": "9a7f58ea",
        "outputId": "e6b47f12-5557-4945-f5f0-210719cc130e"
      },
      "outputs": [
        {
          "data": {
            "text/plain": [
              "array([0, 1, 1, ..., 0, 0, 1], dtype=int64)"
            ]
          },
          "execution_count": 573,
          "metadata": {},
          "output_type": "execute_result"
        }
      ],
      "source": [
        "#fitting test data using manhattan with n_neighbors = 1001\n",
        "knn_manhattan = KNeighborsClassifier(n_neighbors=1001, metric='manhattan')\n",
        "knn_manhattan.fit(X_train, y_train)\n",
        "p_manhattan= knn_manhattan.predict(X_test)\n",
        "p_manhattan"
      ]
    },
    {
      "cell_type": "code",
      "execution_count": null,
      "id": "d7c6cae9",
      "metadata": {
        "id": "d7c6cae9",
        "outputId": "fd881469-ec12-4caa-9863-67019a36e107"
      },
      "outputs": [
        {
          "data": {
            "text/plain": [
              "0.8590192644483362"
            ]
          },
          "execution_count": 574,
          "metadata": {},
          "output_type": "execute_result"
        }
      ],
      "source": [
        "#calculate Accuracy after test\n",
        "Accuracy_manhattan = accuracy_score(y_test, p_manhattan)\n",
        "Accuracy_manhattan"
      ]
    },
    {
      "cell_type": "code",
      "execution_count": null,
      "id": "b15fa71d",
      "metadata": {
        "id": "b15fa71d",
        "outputId": "2859fc07-b522-4c53-926f-c238f8126ef5"
      },
      "outputs": [
        {
          "data": {
            "text/plain": [
              "array([0, 1, 0, ..., 0, 1, 1], dtype=int64)"
            ]
          },
          "execution_count": 575,
          "metadata": {},
          "output_type": "execute_result"
        }
      ],
      "source": [
        "#making the decision tree model and fitting it to the data\n",
        "#predict responce for my test data\n",
        "clf = DecisionTreeClassifier(criterion = \"gini\", random_state = 100, max_depth=3, min_samples_leaf=5)\n",
        "clf.fit(X_train,y_train)\n",
        "#to predict the output of x)test subset\n",
        "P_DT = clf.predict(X_test)\n",
        "P_DT"
      ]
    },
    {
      "cell_type": "code",
      "execution_count": null,
      "id": "bb9e0fa6",
      "metadata": {
        "id": "bb9e0fa6",
        "outputId": "0a7cd411-2e33-4ce2-8d90-d66a53d5b9dc"
      },
      "outputs": [
        {
          "data": {
            "text/plain": [
              "0.8523058960887332"
            ]
          },
          "execution_count": 576,
          "metadata": {},
          "output_type": "execute_result"
        }
      ],
      "source": [
        "#calculate Accuracy after test\n",
        "Accuracy_DecisionTree = accuracy_score(y_test, P_DT)\n",
        "Accuracy_DecisionTree"
      ]
    },
    {
      "cell_type": "code",
      "execution_count": null,
      "id": "b523cf14",
      "metadata": {
        "id": "b523cf14",
        "outputId": "45c563f9-2284-4e91-f297-4a7137c46303"
      },
      "outputs": [
        {
          "name": "stdout",
          "output_type": "stream",
          "text": [
            "[[1422  305]\n",
            " [ 201 1498]]\n"
          ]
        }
      ],
      "source": [
        "#Making the Confusion Matrix of decision tree\n",
        "CM_DT = confusion_matrix(y_test, P_DT)\n",
        "print(CM_DT)"
      ]
    },
    {
      "cell_type": "code",
      "execution_count": null,
      "id": "58b01469",
      "metadata": {
        "id": "58b01469",
        "outputId": "c7cc501e-a9b8-4ee3-c7af-1f7a146eae2e"
      },
      "outputs": [
        {
          "data": {
            "image/png": "[encoded data removed]",
            "text/plain": [
              "<Figure size 432x288 with 2 Axes>"
            ]
          },
          "metadata": {
            "needs_background": "light"
          },
          "output_type": "display_data"
        }
      ],
      "source": [
        "#we use heatmap() method to return the matplotlib axes that can be stored in a variable.\n",
        "axis = sns.heatmap(CM_DT, annot=True, cmap='ocean')\n",
        "\n",
        "#set the title of x-axis, y-axis\n",
        "axis.set_xlabel('Predicted Values')\n",
        "axis.set_ylabel('Actual Values ');\n",
        "\n",
        "#Tick labels that used to denote the datapoints on the axes and it must be in ascending order.\n",
        "axis.xaxis.set_ticklabels(['False','True'])\n",
        "axis.yaxis.set_ticklabels(['False','True'])\n",
        "\n",
        "#ploting the confusion matrix of decision tree\n",
        "plt.show()"
      ]
    },
    {
      "cell_type": "code",
      "execution_count": null,
      "id": "b181b665",
      "metadata": {
        "id": "b181b665"
      },
      "outputs": [],
      "source": [
        "#Feature Scaling\n",
        "Sd_S = StandardScaler()\n",
        "X_train = Sd_S.fit_transform(X_train)\n",
        "X_test = Sd_S.transform(X_test)"
      ]
    },
    {
      "cell_type": "code",
      "execution_count": null,
      "id": "3ff9618e",
      "metadata": {
        "id": "3ff9618e",
        "outputId": "a620fd3e-bc90-4838-cccf-acde7cf31a3e"
      },
      "outputs": [
        {
          "data": {
            "text/plain": [
              "GaussianNB()"
            ]
          },
          "execution_count": 580,
          "metadata": {},
          "output_type": "execute_result"
        }
      ],
      "source": [
        "#Training the Naive Bayes model on the Training set\n",
        "class_model = GaussianNB()\n",
        "class_model.fit(X_train, y_train)"
      ]
    },
    {
      "cell_type": "code",
      "execution_count": null,
      "id": "ffafc00c",
      "metadata": {
        "id": "ffafc00c"
      },
      "outputs": [],
      "source": [
        "#Predicting the Test set results\n",
        "P_naive = class_model.predict(X_test)"
      ]
    },
    {
      "cell_type": "code",
      "execution_count": null,
      "id": "8e329045",
      "metadata": {
        "id": "8e329045",
        "outputId": "675064d2-7e68-4d2d-dd26-9b1b38458b51"
      },
      "outputs": [
        {
          "data": {
            "text/plain": [
              "0.865440747227087"
            ]
          },
          "execution_count": 582,
          "metadata": {},
          "output_type": "execute_result"
        }
      ],
      "source": [
        "#Calculate accuracy in Naive BayesMaking the Confusion Matrix\n",
        "accuracy_naive = accuracy_score(y_test,P_naive)\n",
        "accuracy_naive"
      ]
    },
    {
      "cell_type": "code",
      "execution_count": null,
      "id": "01e19152",
      "metadata": {
        "id": "01e19152",
        "outputId": "77d7f0c1-a62b-4750-9040-06ef26867b3c"
      },
      "outputs": [
        {
          "name": "stdout",
          "output_type": "stream",
          "text": [
            "[[1552  175]\n",
            " [ 286 1413]]\n"
          ]
        }
      ],
      "source": [
        "#Making the Confusion Matrix\n",
        "CM_naive = confusion_matrix(y_test, P_naive)\n",
        "print(CM_naive)"
      ]
    },
    {
      "cell_type": "code",
      "execution_count": null,
      "id": "2c457c33",
      "metadata": {
        "id": "2c457c33",
        "outputId": "f682548c-2653-48c9-a83c-f5ad9a2f09e9"
      },
      "outputs": [
        {
          "data": {
            "image/png": "[encoded data removed]",
            "text/plain": [
              "<Figure size 432x288 with 2 Axes>"
            ]
          },
          "metadata": {
            "needs_background": "light"
          },
          "output_type": "display_data"
        }
      ],
      "source": [
        "#we use heatmap() method to return the matplotlib axes that can be stored in a variable.\n",
        "axis = sns.heatmap(CM_naive, annot=True, cmap='ocean')\n",
        "\n",
        "#set the title of x-axis, y-axis\n",
        "axis.set_xlabel('Predicted Values')\n",
        "axis.set_ylabel('Actual Values ');\n",
        "\n",
        "#Tick labels that used to denote the datapoints on the axes and it must be in ascending order.\n",
        "axis.xaxis.set_ticklabels(['False','True'])\n",
        "axis.yaxis.set_ticklabels(['False','True'])\n",
        "\n",
        "#ploting the confusion matrix naive bayes\n",
        "plt.show()"
      ]
    }
  ],
  "metadata": {
    "kernelspec": {
      "display_name": "Python 3 (ipykernel)",
      "language": "python",
      "name": "python3"
    },
    "language_info": {
      "codemirror_mode": {
        "name": "ipython",
        "version": 3
      },
      "file_extension": ".py",
      "mimetype": "text/x-python",
      "name": "python",
      "nbconvert_exporter": "python",
      "pygments_lexer": "ipython3",
      "version": "3.9.7"
    },
    "colab": {
      "provenance": [],
      "include_colab_link": true
    }
  },
  "nbformat": 4,
  "nbformat_minor": 5
}