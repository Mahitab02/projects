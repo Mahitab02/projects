{
  "cells": [
    {
      "cell_type": "markdown",
      "metadata": {
        "id": "view-in-github",
        "colab_type": "text"
      },
      "source": [
        "<a href=\"https://colab.research.google.com/github/Mahitab02/projects/blob/main/project_DM_(K_Means)_(1).ipynb\" target=\"_parent\"><img src=\"https://colab.research.google.com/assets/colab-badge.svg\" alt=\"Open In Colab\"/></a>"
      ]
    },
    {
      "cell_type": "code",
      "execution_count": null,
      "id": "5108462a",
      "metadata": {
        "id": "5108462a"
      },
      "outputs": [],
      "source": [
        "#import needed libraries and take an object from them\n",
        "import numpy as np\n",
        "import pandas as pd\n",
        "import matplotlib.pyplot as plt\n",
        "from sklearn.cluster import KMeans\n",
        "from sklearn.preprocessing import LabelEncoder"
      ]
    },
    {
      "cell_type": "code",
      "execution_count": null,
      "id": "caed9850",
      "metadata": {
        "id": "caed9850",
        "outputId": "998c0d73-bed0-45d2-ad4d-8cf66e9876ef"
      },
      "outputs": [
        {
          "data": {
            "text/html": [
              "<div>\n",
              "<style scoped>\n",
              "    .dataframe tbody tr th:only-of-type {\n",
              "        vertical-align: middle;\n",
              "    }\n",
              "\n",
              "    .dataframe tbody tr th {\n",
              "        vertical-align: top;\n",
              "    }\n",
              "\n",
              "    .dataframe thead th {\n",
              "        text-align: right;\n",
              "    }\n",
              "</style>\n",
              "<table border=\"1\" class=\"dataframe\">\n",
              "  <thead>\n",
              "    <tr style=\"text-align: right;\">\n",
              "      <th></th>\n",
              "      <th>InvoiceNo</th>\n",
              "      <th>StockCode</th>\n",
              "      <th>Description</th>\n",
              "      <th>Quantity</th>\n",
              "      <th>InvoiceDate</th>\n",
              "      <th>UnitPrice</th>\n",
              "      <th>CustomerID</th>\n",
              "      <th>Country</th>\n",
              "    </tr>\n",
              "  </thead>\n",
              "  <tbody>\n",
              "    <tr>\n",
              "      <th>0</th>\n",
              "      <td>536365</td>\n",
              "      <td>85123A</td>\n",
              "      <td>WHITE HANGING HEART T-LIGHT HOLDER</td>\n",
              "      <td>6</td>\n",
              "      <td>12/1/2010 8:26</td>\n",
              "      <td>2.55</td>\n",
              "      <td>17850.0</td>\n",
              "      <td>United Kingdom</td>\n",
              "    </tr>\n",
              "    <tr>\n",
              "      <th>1</th>\n",
              "      <td>536365</td>\n",
              "      <td>71053</td>\n",
              "      <td>WHITE METAL LANTERN</td>\n",
              "      <td>6</td>\n",
              "      <td>12/1/2010 8:26</td>\n",
              "      <td>3.39</td>\n",
              "      <td>17850.0</td>\n",
              "      <td>United Kingdom</td>\n",
              "    </tr>\n",
              "    <tr>\n",
              "      <th>2</th>\n",
              "      <td>536365</td>\n",
              "      <td>84406B</td>\n",
              "      <td>CREAM CUPID HEARTS COAT HANGER</td>\n",
              "      <td>8</td>\n",
              "      <td>12/1/2010 8:26</td>\n",
              "      <td>2.75</td>\n",
              "      <td>17850.0</td>\n",
              "      <td>United Kingdom</td>\n",
              "    </tr>\n",
              "    <tr>\n",
              "      <th>3</th>\n",
              "      <td>536365</td>\n",
              "      <td>84029G</td>\n",
              "      <td>KNITTED UNION FLAG HOT WATER BOTTLE</td>\n",
              "      <td>6</td>\n",
              "      <td>12/1/2010 8:26</td>\n",
              "      <td>3.39</td>\n",
              "      <td>17850.0</td>\n",
              "      <td>United Kingdom</td>\n",
              "    </tr>\n",
              "    <tr>\n",
              "      <th>4</th>\n",
              "      <td>536365</td>\n",
              "      <td>84029E</td>\n",
              "      <td>RED WOOLLY HOTTIE WHITE HEART.</td>\n",
              "      <td>6</td>\n",
              "      <td>12/1/2010 8:26</td>\n",
              "      <td>3.39</td>\n",
              "      <td>17850.0</td>\n",
              "      <td>United Kingdom</td>\n",
              "    </tr>\n",
              "  </tbody>\n",
              "</table>\n",
              "</div>"
            ],
            "text/plain": [
              "  InvoiceNo StockCode                          Description  Quantity  \\\n",
              "0    536365    85123A   WHITE HANGING HEART T-LIGHT HOLDER         6   \n",
              "1    536365     71053                  WHITE METAL LANTERN         6   \n",
              "2    536365    84406B       CREAM CUPID HEARTS COAT HANGER         8   \n",
              "3    536365    84029G  KNITTED UNION FLAG HOT WATER BOTTLE         6   \n",
              "4    536365    84029E       RED WOOLLY HOTTIE WHITE HEART.         6   \n",
              "\n",
              "      InvoiceDate  UnitPrice  CustomerID         Country  \n",
              "0  12/1/2010 8:26       2.55     17850.0  United Kingdom  \n",
              "1  12/1/2010 8:26       3.39     17850.0  United Kingdom  \n",
              "2  12/1/2010 8:26       2.75     17850.0  United Kingdom  \n",
              "3  12/1/2010 8:26       3.39     17850.0  United Kingdom  \n",
              "4  12/1/2010 8:26       3.39     17850.0  United Kingdom  "
            ]
          },
          "execution_count": 43,
          "metadata": {},
          "output_type": "execute_result"
        }
      ],
      "source": [
        "#load the data\n",
        "Data=pd.read_csv(\"Ecommerce_data.csv\")\n",
        "Data.head()"
      ]
    },
    {
      "cell_type": "code",
      "execution_count": null,
      "id": "75cd9496",
      "metadata": {
        "id": "75cd9496",
        "outputId": "aaa2d3e6-3109-4074-c22c-fc3fcb0f29d5"
      },
      "outputs": [
        {
          "name": "stdout",
          "output_type": "stream",
          "text": [
            "<class 'pandas.core.frame.DataFrame'>\n",
            "RangeIndex: 541909 entries, 0 to 541908\n",
            "Data columns (total 8 columns):\n",
            " #   Column       Non-Null Count   Dtype  \n",
            "---  ------       --------------   -----  \n",
            " 0   InvoiceNo    541909 non-null  object \n",
            " 1   StockCode    541909 non-null  object \n",
            " 2   Description  540455 non-null  object \n",
            " 3   Quantity     541909 non-null  int64  \n",
            " 4   InvoiceDate  541909 non-null  object \n",
            " 5   UnitPrice    541909 non-null  float64\n",
            " 6   CustomerID   406829 non-null  float64\n",
            " 7   Country      541909 non-null  object \n",
            "dtypes: float64(2), int64(1), object(5)\n",
            "memory usage: 33.1+ MB\n"
          ]
        }
      ],
      "source": [
        "#print all information about the Data\n",
        "Data.info()"
      ]
    },
    {
      "cell_type": "code",
      "execution_count": null,
      "id": "427684b7",
      "metadata": {
        "id": "427684b7",
        "outputId": "d9b210d5-ebda-4a59-f112-bbd195df8bc6"
      },
      "outputs": [
        {
          "data": {
            "text/plain": [
              "CustomerID     135080\n",
              "Description      1454\n",
              "InvoiceNo           0\n",
              "StockCode           0\n",
              "Quantity            0\n",
              "InvoiceDate         0\n",
              "UnitPrice           0\n",
              "Country             0\n",
              "dtype: int64"
            ]
          },
          "execution_count": 45,
          "metadata": {},
          "output_type": "execute_result"
        }
      ],
      "source": [
        "#getting the number of the missed values in the data using the following function\n",
        "Data.isnull().sum().sort_values(ascending=False)"
      ]
    },
    {
      "cell_type": "code",
      "execution_count": null,
      "id": "d4309012",
      "metadata": {
        "id": "d4309012",
        "outputId": "ddaf7865-2261-467a-b9d3-be82c6cac298"
      },
      "outputs": [
        {
          "data": {
            "text/plain": [
              "InvoiceNo      0\n",
              "StockCode      0\n",
              "Description    0\n",
              "Quantity       0\n",
              "InvoiceDate    0\n",
              "UnitPrice      0\n",
              "CustomerID     0\n",
              "Country        0\n",
              "dtype: int64"
            ]
          },
          "execution_count": 46,
          "metadata": {},
          "output_type": "execute_result"
        }
      ],
      "source": [
        "#we handle the problem of missing data by removind the row which contain the missing values \n",
        "#using dropna() function we drop the missing valus's rows\n",
        "#then checking whether there are missing values or not again to make sure that we handle the problem of missing values\n",
        "Data=Data.dropna()\n",
        "Data.isnull().sum().sort_values(ascending=False)"
      ]
    },
    {
      "cell_type": "code",
      "execution_count": null,
      "id": "06dfd953",
      "metadata": {
        "id": "06dfd953",
        "outputId": "a081abbc-0278-497d-f91f-69bbd2eb5583"
      },
      "outputs": [
        {
          "name": "stdout",
          "output_type": "stream",
          "text": [
            "<class 'pandas.core.frame.DataFrame'>\n",
            "Int64Index: 406829 entries, 0 to 541908\n",
            "Data columns (total 8 columns):\n",
            " #   Column       Non-Null Count   Dtype  \n",
            "---  ------       --------------   -----  \n",
            " 0   InvoiceNo    406829 non-null  object \n",
            " 1   StockCode    406829 non-null  object \n",
            " 2   Description  406829 non-null  object \n",
            " 3   Quantity     406829 non-null  int64  \n",
            " 4   InvoiceDate  406829 non-null  object \n",
            " 5   UnitPrice    406829 non-null  float64\n",
            " 6   CustomerID   406829 non-null  float64\n",
            " 7   Country      406829 non-null  object \n",
            "dtypes: float64(2), int64(1), object(5)\n",
            "memory usage: 27.9+ MB\n"
          ]
        }
      ],
      "source": [
        "#print information about the Data after remove missing values\n",
        "Data.info()"
      ]
    },
    {
      "cell_type": "code",
      "execution_count": null,
      "id": "520062d4",
      "metadata": {
        "id": "520062d4",
        "outputId": "54f59ecc-54a8-4482-a368-5b6c994eb7d0"
      },
      "outputs": [
        {
          "data": {
            "text/html": [
              "<div>\n",
              "<style scoped>\n",
              "    .dataframe tbody tr th:only-of-type {\n",
              "        vertical-align: middle;\n",
              "    }\n",
              "\n",
              "    .dataframe tbody tr th {\n",
              "        vertical-align: top;\n",
              "    }\n",
              "\n",
              "    .dataframe thead th {\n",
              "        text-align: right;\n",
              "    }\n",
              "</style>\n",
              "<table border=\"1\" class=\"dataframe\">\n",
              "  <thead>\n",
              "    <tr style=\"text-align: right;\">\n",
              "      <th></th>\n",
              "      <th>InvoiceNo</th>\n",
              "      <th>StockCode</th>\n",
              "      <th>Description</th>\n",
              "      <th>Quantity</th>\n",
              "      <th>InvoiceDate</th>\n",
              "      <th>UnitPrice</th>\n",
              "      <th>CustomerID</th>\n",
              "      <th>Country</th>\n",
              "    </tr>\n",
              "  </thead>\n",
              "  <tbody>\n",
              "    <tr>\n",
              "      <th>0</th>\n",
              "      <td>536365</td>\n",
              "      <td>85123A</td>\n",
              "      <td>white hanging heart t-light holder</td>\n",
              "      <td>6</td>\n",
              "      <td>2010-12-01 08:26:00</td>\n",
              "      <td>2.55</td>\n",
              "      <td>17850.0</td>\n",
              "      <td>United Kingdom</td>\n",
              "    </tr>\n",
              "    <tr>\n",
              "      <th>1</th>\n",
              "      <td>536365</td>\n",
              "      <td>71053</td>\n",
              "      <td>white metal lantern</td>\n",
              "      <td>6</td>\n",
              "      <td>2010-12-01 08:26:00</td>\n",
              "      <td>3.39</td>\n",
              "      <td>17850.0</td>\n",
              "      <td>United Kingdom</td>\n",
              "    </tr>\n",
              "    <tr>\n",
              "      <th>2</th>\n",
              "      <td>536365</td>\n",
              "      <td>84406B</td>\n",
              "      <td>cream cupid hearts coat hanger</td>\n",
              "      <td>8</td>\n",
              "      <td>2010-12-01 08:26:00</td>\n",
              "      <td>2.75</td>\n",
              "      <td>17850.0</td>\n",
              "      <td>United Kingdom</td>\n",
              "    </tr>\n",
              "    <tr>\n",
              "      <th>3</th>\n",
              "      <td>536365</td>\n",
              "      <td>84029G</td>\n",
              "      <td>knitted union flag hot water bottle</td>\n",
              "      <td>6</td>\n",
              "      <td>2010-12-01 08:26:00</td>\n",
              "      <td>3.39</td>\n",
              "      <td>17850.0</td>\n",
              "      <td>United Kingdom</td>\n",
              "    </tr>\n",
              "    <tr>\n",
              "      <th>4</th>\n",
              "      <td>536365</td>\n",
              "      <td>84029E</td>\n",
              "      <td>red woolly hottie white heart.</td>\n",
              "      <td>6</td>\n",
              "      <td>2010-12-01 08:26:00</td>\n",
              "      <td>3.39</td>\n",
              "      <td>17850.0</td>\n",
              "      <td>United Kingdom</td>\n",
              "    </tr>\n",
              "  </tbody>\n",
              "</table>\n",
              "</div>"
            ],
            "text/plain": [
              "  InvoiceNo StockCode                          Description  Quantity  \\\n",
              "0    536365    85123A   white hanging heart t-light holder         6   \n",
              "1    536365     71053                  white metal lantern         6   \n",
              "2    536365    84406B       cream cupid hearts coat hanger         8   \n",
              "3    536365    84029G  knitted union flag hot water bottle         6   \n",
              "4    536365    84029E       red woolly hottie white heart.         6   \n",
              "\n",
              "          InvoiceDate  UnitPrice CustomerID         Country  \n",
              "0 2010-12-01 08:26:00       2.55    17850.0  United Kingdom  \n",
              "1 2010-12-01 08:26:00       3.39    17850.0  United Kingdom  \n",
              "2 2010-12-01 08:26:00       2.75    17850.0  United Kingdom  \n",
              "3 2010-12-01 08:26:00       3.39    17850.0  United Kingdom  \n",
              "4 2010-12-01 08:26:00       3.39    17850.0  United Kingdom  "
            ]
          },
          "execution_count": 48,
          "metadata": {},
          "output_type": "execute_result"
        }
      ],
      "source": [
        "#change type of column 'InvoiceDate' from object to datetime\n",
        "#make column 'Description' his string to lower case\n",
        "#change type of column 'CustomerID' from flout64 to object\n",
        "Data['InvoiceDate']=pd.to_datetime(Data.InvoiceDate, format='%m/%d/%Y %H:%M')\n",
        "Data['Description']=Data.Description.str.lower()\n",
        "Data['CustomerID']=Data.CustomerID.astype('object')\n",
        "Data.head()"
      ]
    },
    {
      "cell_type": "code",
      "execution_count": null,
      "id": "216567fb",
      "metadata": {
        "id": "216567fb",
        "outputId": "5491747f-8fb2-4c25-ce48-40eb6b1a3427"
      },
      "outputs": [
        {
          "data": {
            "text/plain": [
              "<AxesSubplot:>"
            ]
          },
          "execution_count": 49,
          "metadata": {},
          "output_type": "execute_result"
        },
        {
          "data": {
            "image/png": "[encoded data removed]",
            "text/plain": [
              "<Figure size 720x432 with 1 Axes>"
            ]
          },
          "metadata": {
            "needs_background": "light"
          },
          "output_type": "display_data"
        }
      ],
      "source": [
        "#boxplot when data is noise\n",
        "plt.figure(figsize = (10, 6))\n",
        "Data.boxplot()"
      ]
    },
    {
      "cell_type": "code",
      "execution_count": null,
      "id": "db511cac",
      "metadata": {
        "id": "db511cac"
      },
      "outputs": [],
      "source": [
        "#remove outliers from column 'Quantity'\n",
        "#remove all data that bigger than max and smaller than min after we calculate max, min values\n",
        "#by change all outlier values to null vales to drop them\n",
        "for x in ['Quantity']:\n",
        "    Q75,Q25 = np.percentile(Data.loc[:,x],[75,25])\n",
        "    intr_qr = Q75-Q25\n",
        " \n",
        "    max = Q75+(1.5*intr_qr)\n",
        "    min = Q25-(1.5*intr_qr)\n",
        " \n",
        "    Data.loc[Data[x] < min,x] = np.nan\n",
        "    Data.loc[Data[x] > max,x] = np.nan"
      ]
    },
    {
      "cell_type": "code",
      "execution_count": null,
      "id": "4fdbd1b3",
      "metadata": {
        "id": "4fdbd1b3",
        "outputId": "77905bf6-eaf9-4bdf-ee85-08ea77ae7713"
      },
      "outputs": [
        {
          "data": {
            "text/plain": [
              "InvoiceNo          0\n",
              "StockCode          0\n",
              "Description        0\n",
              "Quantity       26682\n",
              "InvoiceDate        0\n",
              "UnitPrice          0\n",
              "CustomerID         0\n",
              "Country            0\n",
              "dtype: int64"
            ]
          },
          "execution_count": 51,
          "metadata": {},
          "output_type": "execute_result"
        }
      ],
      "source": [
        "#sum all null vales in 'Quantity' column\n",
        "Data.isnull().sum()"
      ]
    },
    {
      "cell_type": "code",
      "execution_count": null,
      "id": "31c769f4",
      "metadata": {
        "id": "31c769f4"
      },
      "outputs": [],
      "source": [
        "#drop all null values that we found in column 'Quantity'\n",
        "Data = Data.dropna(axis = 0)"
      ]
    },
    {
      "cell_type": "code",
      "execution_count": null,
      "id": "3ea2a3d1",
      "metadata": {
        "id": "3ea2a3d1",
        "outputId": "415de38d-c307-4be0-c520-8ed4bc1676b5"
      },
      "outputs": [
        {
          "name": "stdout",
          "output_type": "stream",
          "text": [
            "<class 'pandas.core.frame.DataFrame'>\n",
            "Int64Index: 380147 entries, 0 to 541908\n",
            "Data columns (total 8 columns):\n",
            " #   Column       Non-Null Count   Dtype         \n",
            "---  ------       --------------   -----         \n",
            " 0   InvoiceNo    380147 non-null  object        \n",
            " 1   StockCode    380147 non-null  object        \n",
            " 2   Description  380147 non-null  object        \n",
            " 3   Quantity     380147 non-null  float64       \n",
            " 4   InvoiceDate  380147 non-null  datetime64[ns]\n",
            " 5   UnitPrice    380147 non-null  float64       \n",
            " 6   CustomerID   380147 non-null  object        \n",
            " 7   Country      380147 non-null  object        \n",
            "dtypes: datetime64[ns](1), float64(2), object(5)\n",
            "memory usage: 26.1+ MB\n"
          ]
        }
      ],
      "source": [
        "#print information about the Data after remove null values that we found in 'Quantity' column\n",
        "Data.info()"
      ]
    },
    {
      "cell_type": "code",
      "execution_count": null,
      "id": "0e721a23",
      "metadata": {
        "id": "0e721a23"
      },
      "outputs": [],
      "source": [
        "#remove outliers from column 'UnitPrice'\n",
        "#remove all data that bigger than max and smaller than min after we calculate max, min values\n",
        "#by change all outlier values to null vales to drop them\n",
        "for y in ['UnitPrice']:\n",
        "    Q75,Q25 = np.percentile(Data.loc[:,y],[75,25])\n",
        "    intr_qr = Q75-Q25\n",
        " \n",
        "    max = Q75+(1.5*intr_qr)\n",
        "    min = Q25-(1.5*intr_qr)\n",
        " \n",
        "    Data.loc[Data[y] < min,y] = np.nan\n",
        "    Data.loc[Data[y] > max,y] = np.nan"
      ]
    },
    {
      "cell_type": "code",
      "execution_count": null,
      "id": "cbd9aea9",
      "metadata": {
        "id": "cbd9aea9",
        "outputId": "1d6b4d21-ad7f-4de1-b9d8-78fbdd7716bb"
      },
      "outputs": [
        {
          "data": {
            "text/plain": [
              "InvoiceNo          0\n",
              "StockCode          0\n",
              "Description        0\n",
              "Quantity           0\n",
              "InvoiceDate        0\n",
              "UnitPrice      35754\n",
              "CustomerID         0\n",
              "Country            0\n",
              "dtype: int64"
            ]
          },
          "execution_count": 55,
          "metadata": {},
          "output_type": "execute_result"
        }
      ],
      "source": [
        "#sum all null vales in 'UnitPrice' column\n",
        "Data.isnull().sum()"
      ]
    },
    {
      "cell_type": "code",
      "execution_count": null,
      "id": "a619269f",
      "metadata": {
        "id": "a619269f"
      },
      "outputs": [],
      "source": [
        "#drop all null values that we found in column 'UnitPrice'\n",
        "Data = Data.dropna(axis = 0)"
      ]
    },
    {
      "cell_type": "code",
      "execution_count": null,
      "id": "c49e1413",
      "metadata": {
        "id": "c49e1413",
        "outputId": "58667767-4ee5-4cc9-d407-eed3c3ff6a08"
      },
      "outputs": [
        {
          "data": {
            "text/plain": [
              "InvoiceNo      0\n",
              "StockCode      0\n",
              "Description    0\n",
              "Quantity       0\n",
              "InvoiceDate    0\n",
              "UnitPrice      0\n",
              "CustomerID     0\n",
              "Country        0\n",
              "dtype: int64"
            ]
          },
          "execution_count": 57,
          "metadata": {},
          "output_type": "execute_result"
        }
      ],
      "source": [
        "#sum all null vales in 'UnitPrice' column to make sure that all null values are dropped\n",
        "Data.isnull().sum()"
      ]
    },
    {
      "cell_type": "code",
      "execution_count": null,
      "id": "22c9d375",
      "metadata": {
        "id": "22c9d375",
        "outputId": "145ca02c-d41f-45da-c58e-1db0d8ee9bc5"
      },
      "outputs": [
        {
          "name": "stdout",
          "output_type": "stream",
          "text": [
            "<class 'pandas.core.frame.DataFrame'>\n",
            "Int64Index: 344393 entries, 0 to 541908\n",
            "Data columns (total 8 columns):\n",
            " #   Column       Non-Null Count   Dtype         \n",
            "---  ------       --------------   -----         \n",
            " 0   InvoiceNo    344393 non-null  object        \n",
            " 1   StockCode    344393 non-null  object        \n",
            " 2   Description  344393 non-null  object        \n",
            " 3   Quantity     344393 non-null  float64       \n",
            " 4   InvoiceDate  344393 non-null  datetime64[ns]\n",
            " 5   UnitPrice    344393 non-null  float64       \n",
            " 6   CustomerID   344393 non-null  object        \n",
            " 7   Country      344393 non-null  object        \n",
            "dtypes: datetime64[ns](1), float64(2), object(5)\n",
            "memory usage: 23.6+ MB\n"
          ]
        }
      ],
      "source": [
        "#print information about the Data after remove null values that we found in 'UnitPrice' column\n",
        "Data.info()"
      ]
    },
    {
      "cell_type": "code",
      "execution_count": null,
      "id": "76851865",
      "metadata": {
        "scrolled": false,
        "id": "76851865",
        "outputId": "1f0eefd9-d2fa-48a0-9501-e6e1fc08f783"
      },
      "outputs": [
        {
          "data": {
            "text/plain": [
              "<AxesSubplot:>"
            ]
          },
          "execution_count": 59,
          "metadata": {},
          "output_type": "execute_result"
        },
        {
          "data": {
            "image/png": "[encoded data removed]",
            "text/plain": [
              "<Figure size 720x432 with 1 Axes>"
            ]
          },
          "metadata": {
            "needs_background": "light"
          },
          "output_type": "display_data"
        }
      ],
      "source": [
        "#boxplot after cleaning the data from noise,null and remove outliers\n",
        "plt.figure(figsize = (10, 6))\n",
        "Data.boxplot()"
      ]
    },
    {
      "cell_type": "code",
      "execution_count": null,
      "id": "1ff9e764",
      "metadata": {
        "id": "1ff9e764",
        "outputId": "616599a4-2f84-402a-d4da-a277c76ccb2a"
      },
      "outputs": [
        {
          "data": {
            "text/html": [
              "<div>\n",
              "<style scoped>\n",
              "    .dataframe tbody tr th:only-of-type {\n",
              "        vertical-align: middle;\n",
              "    }\n",
              "\n",
              "    .dataframe tbody tr th {\n",
              "        vertical-align: top;\n",
              "    }\n",
              "\n",
              "    .dataframe thead th {\n",
              "        text-align: right;\n",
              "    }\n",
              "</style>\n",
              "<table border=\"1\" class=\"dataframe\">\n",
              "  <thead>\n",
              "    <tr style=\"text-align: right;\">\n",
              "      <th></th>\n",
              "      <th>InvoiceNo</th>\n",
              "      <th>StockCode</th>\n",
              "      <th>Description</th>\n",
              "      <th>Quantity</th>\n",
              "      <th>InvoiceDate</th>\n",
              "      <th>UnitPrice</th>\n",
              "      <th>CustomerID</th>\n",
              "      <th>Country</th>\n",
              "    </tr>\n",
              "  </thead>\n",
              "  <tbody>\n",
              "    <tr>\n",
              "      <th>517</th>\n",
              "      <td>536409</td>\n",
              "      <td>21866</td>\n",
              "      <td>union jack flag luggage tag</td>\n",
              "      <td>1.0</td>\n",
              "      <td>2010-12-01 11:45:00</td>\n",
              "      <td>1.25</td>\n",
              "      <td>17908.0</td>\n",
              "      <td>United Kingdom</td>\n",
              "    </tr>\n",
              "    <tr>\n",
              "      <th>527</th>\n",
              "      <td>536409</td>\n",
              "      <td>22866</td>\n",
              "      <td>hand warmer scotty dog design</td>\n",
              "      <td>1.0</td>\n",
              "      <td>2010-12-01 11:45:00</td>\n",
              "      <td>2.10</td>\n",
              "      <td>17908.0</td>\n",
              "      <td>United Kingdom</td>\n",
              "    </tr>\n",
              "    <tr>\n",
              "      <th>537</th>\n",
              "      <td>536409</td>\n",
              "      <td>22900</td>\n",
              "      <td>set 2 tea towels i love london</td>\n",
              "      <td>1.0</td>\n",
              "      <td>2010-12-01 11:45:00</td>\n",
              "      <td>2.95</td>\n",
              "      <td>17908.0</td>\n",
              "      <td>United Kingdom</td>\n",
              "    </tr>\n",
              "    <tr>\n",
              "      <th>539</th>\n",
              "      <td>536409</td>\n",
              "      <td>22111</td>\n",
              "      <td>scottie dog hot water bottle</td>\n",
              "      <td>1.0</td>\n",
              "      <td>2010-12-01 11:45:00</td>\n",
              "      <td>4.95</td>\n",
              "      <td>17908.0</td>\n",
              "      <td>United Kingdom</td>\n",
              "    </tr>\n",
              "    <tr>\n",
              "      <th>555</th>\n",
              "      <td>536412</td>\n",
              "      <td>22327</td>\n",
              "      <td>round snack boxes set of 4 skulls</td>\n",
              "      <td>1.0</td>\n",
              "      <td>2010-12-01 11:49:00</td>\n",
              "      <td>2.95</td>\n",
              "      <td>17920.0</td>\n",
              "      <td>United Kingdom</td>\n",
              "    </tr>\n",
              "  </tbody>\n",
              "</table>\n",
              "</div>"
            ],
            "text/plain": [
              "    InvoiceNo StockCode                        Description  Quantity  \\\n",
              "517    536409     21866        union jack flag luggage tag       1.0   \n",
              "527    536409     22866      hand warmer scotty dog design       1.0   \n",
              "537    536409     22900    set 2 tea towels i love london        1.0   \n",
              "539    536409     22111       scottie dog hot water bottle       1.0   \n",
              "555    536412     22327  round snack boxes set of 4 skulls       1.0   \n",
              "\n",
              "            InvoiceDate  UnitPrice CustomerID         Country  \n",
              "517 2010-12-01 11:45:00       1.25    17908.0  United Kingdom  \n",
              "527 2010-12-01 11:45:00       2.10    17908.0  United Kingdom  \n",
              "537 2010-12-01 11:45:00       2.95    17908.0  United Kingdom  \n",
              "539 2010-12-01 11:45:00       4.95    17908.0  United Kingdom  \n",
              "555 2010-12-01 11:49:00       2.95    17920.0  United Kingdom  "
            ]
          },
          "execution_count": 60,
          "metadata": {},
          "output_type": "execute_result"
        }
      ],
      "source": [
        "#show the duplicate\n",
        "Data[Data.duplicated()].head()"
      ]
    },
    {
      "cell_type": "code",
      "execution_count": null,
      "id": "ed937d25",
      "metadata": {
        "id": "ed937d25",
        "outputId": "5d416d66-4eb3-4f7b-e5fc-4c57b0440b02"
      },
      "outputs": [
        {
          "data": {
            "text/plain": [
              "4940"
            ]
          },
          "execution_count": 61,
          "metadata": {},
          "output_type": "execute_result"
        }
      ],
      "source": [
        "#sum all duplicated data\n",
        "Data.duplicated().sum()"
      ]
    },
    {
      "cell_type": "code",
      "execution_count": null,
      "id": "90a6d96d",
      "metadata": {
        "id": "90a6d96d"
      },
      "outputs": [],
      "source": [
        "#drop all duplicated data\n",
        "Data.drop_duplicates(inplace=True)"
      ]
    },
    {
      "cell_type": "code",
      "execution_count": null,
      "id": "fc0234e1",
      "metadata": {
        "id": "fc0234e1",
        "outputId": "6d1dd6e1-06a8-4afd-ed63-3f3d97cd0cf4"
      },
      "outputs": [
        {
          "data": {
            "text/plain": [
              "0"
            ]
          },
          "execution_count": 63,
          "metadata": {},
          "output_type": "execute_result"
        }
      ],
      "source": [
        "#sum all duplicate data to make sure that there is no duplication\n",
        "Data.duplicated().sum()"
      ]
    },
    {
      "cell_type": "code",
      "execution_count": null,
      "id": "8c908cec",
      "metadata": {
        "id": "8c908cec",
        "outputId": "c6734143-a779-41ab-d3fd-d773c2fc51f6"
      },
      "outputs": [
        {
          "data": {
            "text/html": [
              "<div>\n",
              "<style scoped>\n",
              "    .dataframe tbody tr th:only-of-type {\n",
              "        vertical-align: middle;\n",
              "    }\n",
              "\n",
              "    .dataframe tbody tr th {\n",
              "        vertical-align: top;\n",
              "    }\n",
              "\n",
              "    .dataframe thead th {\n",
              "        text-align: right;\n",
              "    }\n",
              "</style>\n",
              "<table border=\"1\" class=\"dataframe\">\n",
              "  <thead>\n",
              "    <tr style=\"text-align: right;\">\n",
              "      <th></th>\n",
              "      <th>Quantity</th>\n",
              "      <th>UnitPrice</th>\n",
              "    </tr>\n",
              "  </thead>\n",
              "  <tbody>\n",
              "    <tr>\n",
              "      <th>count</th>\n",
              "      <td>339453.000000</td>\n",
              "      <td>339453.000000</td>\n",
              "    </tr>\n",
              "    <tr>\n",
              "      <th>mean</th>\n",
              "      <td>7.350022</td>\n",
              "      <td>2.203459</td>\n",
              "    </tr>\n",
              "    <tr>\n",
              "      <th>std</th>\n",
              "      <td>6.890369</td>\n",
              "      <td>1.549676</td>\n",
              "    </tr>\n",
              "    <tr>\n",
              "      <th>min</th>\n",
              "      <td>-13.000000</td>\n",
              "      <td>0.000000</td>\n",
              "    </tr>\n",
              "    <tr>\n",
              "      <th>25%</th>\n",
              "      <td>2.000000</td>\n",
              "      <td>1.250000</td>\n",
              "    </tr>\n",
              "    <tr>\n",
              "      <th>50%</th>\n",
              "      <td>6.000000</td>\n",
              "      <td>1.650000</td>\n",
              "    </tr>\n",
              "    <tr>\n",
              "      <th>75%</th>\n",
              "      <td>12.000000</td>\n",
              "      <td>2.950000</td>\n",
              "    </tr>\n",
              "    <tr>\n",
              "      <th>max</th>\n",
              "      <td>27.000000</td>\n",
              "      <td>7.500000</td>\n",
              "    </tr>\n",
              "  </tbody>\n",
              "</table>\n",
              "</div>"
            ],
            "text/plain": [
              "            Quantity      UnitPrice\n",
              "count  339453.000000  339453.000000\n",
              "mean        7.350022       2.203459\n",
              "std         6.890369       1.549676\n",
              "min       -13.000000       0.000000\n",
              "25%         2.000000       1.250000\n",
              "50%         6.000000       1.650000\n",
              "75%        12.000000       2.950000\n",
              "max        27.000000       7.500000"
            ]
          },
          "execution_count": 64,
          "metadata": {},
          "output_type": "execute_result"
        }
      ],
      "source": [
        "#we use describe() method to return description of the data in the DataFrame\n",
        "Data.describe()"
      ]
    },
    {
      "cell_type": "code",
      "execution_count": null,
      "id": "89ec32f5",
      "metadata": {
        "id": "89ec32f5",
        "outputId": "9f507d41-8163-4b16-d3f7-4c8bb8eded20"
      },
      "outputs": [
        {
          "data": {
            "text/html": [
              "<div>\n",
              "<style scoped>\n",
              "    .dataframe tbody tr th:only-of-type {\n",
              "        vertical-align: middle;\n",
              "    }\n",
              "\n",
              "    .dataframe tbody tr th {\n",
              "        vertical-align: top;\n",
              "    }\n",
              "\n",
              "    .dataframe thead th {\n",
              "        text-align: right;\n",
              "    }\n",
              "</style>\n",
              "<table border=\"1\" class=\"dataframe\">\n",
              "  <thead>\n",
              "    <tr style=\"text-align: right;\">\n",
              "      <th></th>\n",
              "      <th>Description</th>\n",
              "      <th>Quantity</th>\n",
              "      <th>UnitPrice</th>\n",
              "      <th>Country</th>\n",
              "    </tr>\n",
              "  </thead>\n",
              "  <tbody>\n",
              "    <tr>\n",
              "      <th>0</th>\n",
              "      <td>white hanging heart t-light holder</td>\n",
              "      <td>6.0</td>\n",
              "      <td>2.55</td>\n",
              "      <td>United Kingdom</td>\n",
              "    </tr>\n",
              "    <tr>\n",
              "      <th>1</th>\n",
              "      <td>white metal lantern</td>\n",
              "      <td>6.0</td>\n",
              "      <td>3.39</td>\n",
              "      <td>United Kingdom</td>\n",
              "    </tr>\n",
              "    <tr>\n",
              "      <th>2</th>\n",
              "      <td>cream cupid hearts coat hanger</td>\n",
              "      <td>8.0</td>\n",
              "      <td>2.75</td>\n",
              "      <td>United Kingdom</td>\n",
              "    </tr>\n",
              "    <tr>\n",
              "      <th>3</th>\n",
              "      <td>knitted union flag hot water bottle</td>\n",
              "      <td>6.0</td>\n",
              "      <td>3.39</td>\n",
              "      <td>United Kingdom</td>\n",
              "    </tr>\n",
              "    <tr>\n",
              "      <th>4</th>\n",
              "      <td>red woolly hottie white heart.</td>\n",
              "      <td>6.0</td>\n",
              "      <td>3.39</td>\n",
              "      <td>United Kingdom</td>\n",
              "    </tr>\n",
              "    <tr>\n",
              "      <th>...</th>\n",
              "      <td>...</td>\n",
              "      <td>...</td>\n",
              "      <td>...</td>\n",
              "      <td>...</td>\n",
              "    </tr>\n",
              "    <tr>\n",
              "      <th>541904</th>\n",
              "      <td>pack of 20 spaceboy napkins</td>\n",
              "      <td>12.0</td>\n",
              "      <td>0.85</td>\n",
              "      <td>France</td>\n",
              "    </tr>\n",
              "    <tr>\n",
              "      <th>541905</th>\n",
              "      <td>children's apron dolly girl</td>\n",
              "      <td>6.0</td>\n",
              "      <td>2.10</td>\n",
              "      <td>France</td>\n",
              "    </tr>\n",
              "    <tr>\n",
              "      <th>541906</th>\n",
              "      <td>childrens cutlery dolly girl</td>\n",
              "      <td>4.0</td>\n",
              "      <td>4.15</td>\n",
              "      <td>France</td>\n",
              "    </tr>\n",
              "    <tr>\n",
              "      <th>541907</th>\n",
              "      <td>childrens cutlery circus parade</td>\n",
              "      <td>4.0</td>\n",
              "      <td>4.15</td>\n",
              "      <td>France</td>\n",
              "    </tr>\n",
              "    <tr>\n",
              "      <th>541908</th>\n",
              "      <td>baking set 9 piece retrospot</td>\n",
              "      <td>3.0</td>\n",
              "      <td>4.95</td>\n",
              "      <td>France</td>\n",
              "    </tr>\n",
              "  </tbody>\n",
              "</table>\n",
              "<p>339453 rows × 4 columns</p>\n",
              "</div>"
            ],
            "text/plain": [
              "                                Description  Quantity  UnitPrice  \\\n",
              "0        white hanging heart t-light holder       6.0       2.55   \n",
              "1                       white metal lantern       6.0       3.39   \n",
              "2            cream cupid hearts coat hanger       8.0       2.75   \n",
              "3       knitted union flag hot water bottle       6.0       3.39   \n",
              "4            red woolly hottie white heart.       6.0       3.39   \n",
              "...                                     ...       ...        ...   \n",
              "541904          pack of 20 spaceboy napkins      12.0       0.85   \n",
              "541905         children's apron dolly girl        6.0       2.10   \n",
              "541906        childrens cutlery dolly girl        4.0       4.15   \n",
              "541907      childrens cutlery circus parade       4.0       4.15   \n",
              "541908        baking set 9 piece retrospot        3.0       4.95   \n",
              "\n",
              "               Country  \n",
              "0       United Kingdom  \n",
              "1       United Kingdom  \n",
              "2       United Kingdom  \n",
              "3       United Kingdom  \n",
              "4       United Kingdom  \n",
              "...                ...  \n",
              "541904          France  \n",
              "541905          France  \n",
              "541906          France  \n",
              "541907          France  \n",
              "541908          France  \n",
              "\n",
              "[339453 rows x 4 columns]"
            ]
          },
          "execution_count": 65,
          "metadata": {},
          "output_type": "execute_result"
        }
      ],
      "source": [
        "#this column don't related to our output(status)so we remove it\n",
        "Data=Data.drop(columns=\"StockCode\")\n",
        "Data=Data.drop(columns=\"InvoiceNo\")\n",
        "Data=Data.drop(columns=\"InvoiceDate\")\n",
        "Data=Data.drop(columns=\"CustomerID\")\n",
        "Data"
      ]
    },
    {
      "cell_type": "code",
      "execution_count": null,
      "id": "7d12ad35",
      "metadata": {
        "id": "7d12ad35",
        "outputId": "be669a91-9ec9-438f-8396-02baddd79e32"
      },
      "outputs": [
        {
          "data": {
            "text/html": [
              "<div>\n",
              "<style scoped>\n",
              "    .dataframe tbody tr th:only-of-type {\n",
              "        vertical-align: middle;\n",
              "    }\n",
              "\n",
              "    .dataframe tbody tr th {\n",
              "        vertical-align: top;\n",
              "    }\n",
              "\n",
              "    .dataframe thead th {\n",
              "        text-align: right;\n",
              "    }\n",
              "</style>\n",
              "<table border=\"1\" class=\"dataframe\">\n",
              "  <thead>\n",
              "    <tr style=\"text-align: right;\">\n",
              "      <th></th>\n",
              "      <th>Quantity</th>\n",
              "      <th>UnitPrice</th>\n",
              "    </tr>\n",
              "  </thead>\n",
              "  <tbody>\n",
              "    <tr>\n",
              "      <th>Quantity</th>\n",
              "      <td>1.000000</td>\n",
              "      <td>-0.344021</td>\n",
              "    </tr>\n",
              "    <tr>\n",
              "      <th>UnitPrice</th>\n",
              "      <td>-0.344021</td>\n",
              "      <td>1.000000</td>\n",
              "    </tr>\n",
              "  </tbody>\n",
              "</table>\n",
              "</div>"
            ],
            "text/plain": [
              "           Quantity  UnitPrice\n",
              "Quantity   1.000000  -0.344021\n",
              "UnitPrice -0.344021   1.000000"
            ]
          },
          "execution_count": 66,
          "metadata": {},
          "output_type": "execute_result"
        }
      ],
      "source": [
        "#create a matrix filled with correlation values for each two columns\n",
        "Data.corr()"
      ]
    },
    {
      "cell_type": "code",
      "execution_count": null,
      "id": "1a4a34ef",
      "metadata": {
        "id": "1a4a34ef",
        "outputId": "7fb59e72-6b19-4c39-f315-373d8f784ecd"
      },
      "outputs": [
        {
          "data": {
            "text/html": [
              "<div>\n",
              "<style scoped>\n",
              "    .dataframe tbody tr th:only-of-type {\n",
              "        vertical-align: middle;\n",
              "    }\n",
              "\n",
              "    .dataframe tbody tr th {\n",
              "        vertical-align: top;\n",
              "    }\n",
              "\n",
              "    .dataframe thead th {\n",
              "        text-align: right;\n",
              "    }\n",
              "</style>\n",
              "<table border=\"1\" class=\"dataframe\">\n",
              "  <thead>\n",
              "    <tr style=\"text-align: right;\">\n",
              "      <th></th>\n",
              "      <th>Quantity</th>\n",
              "      <th>UnitPrice</th>\n",
              "    </tr>\n",
              "  </thead>\n",
              "  <tbody>\n",
              "    <tr>\n",
              "      <th>Quantity</th>\n",
              "      <td>1.000000</td>\n",
              "      <td>0.344021</td>\n",
              "    </tr>\n",
              "    <tr>\n",
              "      <th>UnitPrice</th>\n",
              "      <td>0.344021</td>\n",
              "      <td>1.000000</td>\n",
              "    </tr>\n",
              "  </tbody>\n",
              "</table>\n",
              "</div>"
            ],
            "text/plain": [
              "           Quantity  UnitPrice\n",
              "Quantity   1.000000   0.344021\n",
              "UnitPrice  0.344021   1.000000"
            ]
          },
          "execution_count": 67,
          "metadata": {},
          "output_type": "execute_result"
        }
      ],
      "source": [
        "#create a matrix filled with correlation values for each two columns with absolute value\n",
        "CorrelationMatrix = Data.corr().abs()\n",
        "CorrelationMatrix"
      ]
    },
    {
      "cell_type": "code",
      "execution_count": null,
      "id": "f4013f31",
      "metadata": {
        "id": "f4013f31",
        "outputId": "c0bbf28c-6f0a-4e37-e025-235bf314ab03"
      },
      "outputs": [
        {
          "name": "stderr",
          "output_type": "stream",
          "text": [
            "C:\\Users\\MCC\\AppData\\Local\\Temp/ipykernel_3248/2541172571.py:2: DeprecationWarning: `np.bool` is a deprecated alias for the builtin `bool`. To silence this warning, use `bool` by itself. Doing this will not modify any behavior and is safe. If you specifically wanted the numpy scalar type, use `np.bool_` here.\n",
            "Deprecated in NumPy 1.20; for more details and guidance: https://numpy.org/devdocs/release/1.20.0-notes.html#deprecations\n",
            "  up_tri = CorrelationMatrix.where(np.triu(np.ones(CorrelationMatrix.shape),k=1).astype(np.bool))\n"
          ]
        },
        {
          "data": {
            "text/html": [
              "<div>\n",
              "<style scoped>\n",
              "    .dataframe tbody tr th:only-of-type {\n",
              "        vertical-align: middle;\n",
              "    }\n",
              "\n",
              "    .dataframe tbody tr th {\n",
              "        vertical-align: top;\n",
              "    }\n",
              "\n",
              "    .dataframe thead th {\n",
              "        text-align: right;\n",
              "    }\n",
              "</style>\n",
              "<table border=\"1\" class=\"dataframe\">\n",
              "  <thead>\n",
              "    <tr style=\"text-align: right;\">\n",
              "      <th></th>\n",
              "      <th>Quantity</th>\n",
              "      <th>UnitPrice</th>\n",
              "    </tr>\n",
              "  </thead>\n",
              "  <tbody>\n",
              "    <tr>\n",
              "      <th>Quantity</th>\n",
              "      <td>NaN</td>\n",
              "      <td>0.344021</td>\n",
              "    </tr>\n",
              "    <tr>\n",
              "      <th>UnitPrice</th>\n",
              "      <td>NaN</td>\n",
              "      <td>NaN</td>\n",
              "    </tr>\n",
              "  </tbody>\n",
              "</table>\n",
              "</div>"
            ],
            "text/plain": [
              "           Quantity  UnitPrice\n",
              "Quantity        NaN   0.344021\n",
              "UnitPrice       NaN        NaN"
            ]
          },
          "execution_count": 68,
          "metadata": {},
          "output_type": "execute_result"
        }
      ],
      "source": [
        "#Selecting the Upper triangular matrix\n",
        "up_tri = CorrelationMatrix.where(np.triu(np.ones(CorrelationMatrix.shape),k=1).astype(np.bool))\n",
        "up_tri"
      ]
    },
    {
      "cell_type": "code",
      "execution_count": null,
      "id": "fbe3ed88",
      "metadata": {
        "id": "fbe3ed88",
        "outputId": "5cddbb6e-10d1-4575-9fee-d7a52a3687d6"
      },
      "outputs": [
        {
          "name": "stdout",
          "output_type": "stream",
          "text": [
            "[]\n"
          ]
        }
      ],
      "source": [
        "#this method help us to know which columns with high correlation that we will drop\n",
        "C_drop = [column for column in up_tri.columns if any(up_tri[column] >= 0.8)]\n",
        "print(C_drop)"
      ]
    },
    {
      "cell_type": "code",
      "execution_count": null,
      "id": "5235e8f6",
      "metadata": {
        "id": "5235e8f6",
        "outputId": "f19bbd61-84da-4af3-f603-e4b4a0589624"
      },
      "outputs": [
        {
          "data": {
            "text/html": [
              "<div>\n",
              "<style scoped>\n",
              "    .dataframe tbody tr th:only-of-type {\n",
              "        vertical-align: middle;\n",
              "    }\n",
              "\n",
              "    .dataframe tbody tr th {\n",
              "        vertical-align: top;\n",
              "    }\n",
              "\n",
              "    .dataframe thead th {\n",
              "        text-align: right;\n",
              "    }\n",
              "</style>\n",
              "<table border=\"1\" class=\"dataframe\">\n",
              "  <thead>\n",
              "    <tr style=\"text-align: right;\">\n",
              "      <th></th>\n",
              "      <th>Description</th>\n",
              "      <th>Quantity</th>\n",
              "      <th>UnitPrice</th>\n",
              "      <th>Country</th>\n",
              "    </tr>\n",
              "  </thead>\n",
              "  <tbody>\n",
              "    <tr>\n",
              "      <th>0</th>\n",
              "      <td>white hanging heart t-light holder</td>\n",
              "      <td>6.0</td>\n",
              "      <td>2.55</td>\n",
              "      <td>United Kingdom</td>\n",
              "    </tr>\n",
              "    <tr>\n",
              "      <th>1</th>\n",
              "      <td>white metal lantern</td>\n",
              "      <td>6.0</td>\n",
              "      <td>3.39</td>\n",
              "      <td>United Kingdom</td>\n",
              "    </tr>\n",
              "    <tr>\n",
              "      <th>2</th>\n",
              "      <td>cream cupid hearts coat hanger</td>\n",
              "      <td>8.0</td>\n",
              "      <td>2.75</td>\n",
              "      <td>United Kingdom</td>\n",
              "    </tr>\n",
              "    <tr>\n",
              "      <th>3</th>\n",
              "      <td>knitted union flag hot water bottle</td>\n",
              "      <td>6.0</td>\n",
              "      <td>3.39</td>\n",
              "      <td>United Kingdom</td>\n",
              "    </tr>\n",
              "    <tr>\n",
              "      <th>4</th>\n",
              "      <td>red woolly hottie white heart.</td>\n",
              "      <td>6.0</td>\n",
              "      <td>3.39</td>\n",
              "      <td>United Kingdom</td>\n",
              "    </tr>\n",
              "  </tbody>\n",
              "</table>\n",
              "</div>"
            ],
            "text/plain": [
              "                           Description  Quantity  UnitPrice         Country\n",
              "0   white hanging heart t-light holder       6.0       2.55  United Kingdom\n",
              "1                  white metal lantern       6.0       3.39  United Kingdom\n",
              "2       cream cupid hearts coat hanger       8.0       2.75  United Kingdom\n",
              "3  knitted union flag hot water bottle       6.0       3.39  United Kingdom\n",
              "4       red woolly hottie white heart.       6.0       3.39  United Kingdom"
            ]
          },
          "execution_count": 70,
          "metadata": {},
          "output_type": "execute_result"
        }
      ],
      "source": [
        "#their is no corr >= 0.8 between columns so we will not drop columns\n",
        "Data.head()"
      ]
    },
    {
      "cell_type": "code",
      "execution_count": null,
      "id": "ed967dd1",
      "metadata": {
        "id": "ed967dd1"
      },
      "outputs": [],
      "source": [
        "#by using cut () function we do the discretization to each numerical attribute\n",
        "#T_Quantity is the types of the Quantity which divided into 3 parts\n",
        "Data['T_Quantity'] = pd.cut(Data['Quantity'],3,labels=['small','medium','larg'])"
      ]
    },
    {
      "cell_type": "code",
      "execution_count": null,
      "id": "77086eb9",
      "metadata": {
        "id": "77086eb9"
      },
      "outputs": [],
      "source": [
        "#T_UnitPrice is the types of the Quantity which divided into 3 parts\n",
        "Data['T_UnitPrice'] = pd.cut(Data['UnitPrice'],3,labels=['low','normal','great'])"
      ]
    },
    {
      "cell_type": "code",
      "execution_count": null,
      "id": "203e1f61",
      "metadata": {
        "id": "203e1f61",
        "outputId": "cb0865cf-8ca2-452d-e860-e4ea3174961b"
      },
      "outputs": [
        {
          "data": {
            "text/html": [
              "<div>\n",
              "<style scoped>\n",
              "    .dataframe tbody tr th:only-of-type {\n",
              "        vertical-align: middle;\n",
              "    }\n",
              "\n",
              "    .dataframe tbody tr th {\n",
              "        vertical-align: top;\n",
              "    }\n",
              "\n",
              "    .dataframe thead th {\n",
              "        text-align: right;\n",
              "    }\n",
              "</style>\n",
              "<table border=\"1\" class=\"dataframe\">\n",
              "  <thead>\n",
              "    <tr style=\"text-align: right;\">\n",
              "      <th></th>\n",
              "      <th>Description</th>\n",
              "      <th>Quantity</th>\n",
              "      <th>UnitPrice</th>\n",
              "      <th>Country</th>\n",
              "      <th>T_Quantity</th>\n",
              "      <th>T_UnitPrice</th>\n",
              "    </tr>\n",
              "  </thead>\n",
              "  <tbody>\n",
              "    <tr>\n",
              "      <th>0</th>\n",
              "      <td>white hanging heart t-light holder</td>\n",
              "      <td>6.0</td>\n",
              "      <td>2.55</td>\n",
              "      <td>United Kingdom</td>\n",
              "      <td>medium</td>\n",
              "      <td>normal</td>\n",
              "    </tr>\n",
              "    <tr>\n",
              "      <th>1</th>\n",
              "      <td>white metal lantern</td>\n",
              "      <td>6.0</td>\n",
              "      <td>3.39</td>\n",
              "      <td>United Kingdom</td>\n",
              "      <td>medium</td>\n",
              "      <td>normal</td>\n",
              "    </tr>\n",
              "    <tr>\n",
              "      <th>2</th>\n",
              "      <td>cream cupid hearts coat hanger</td>\n",
              "      <td>8.0</td>\n",
              "      <td>2.75</td>\n",
              "      <td>United Kingdom</td>\n",
              "      <td>medium</td>\n",
              "      <td>normal</td>\n",
              "    </tr>\n",
              "    <tr>\n",
              "      <th>3</th>\n",
              "      <td>knitted union flag hot water bottle</td>\n",
              "      <td>6.0</td>\n",
              "      <td>3.39</td>\n",
              "      <td>United Kingdom</td>\n",
              "      <td>medium</td>\n",
              "      <td>normal</td>\n",
              "    </tr>\n",
              "    <tr>\n",
              "      <th>4</th>\n",
              "      <td>red woolly hottie white heart.</td>\n",
              "      <td>6.0</td>\n",
              "      <td>3.39</td>\n",
              "      <td>United Kingdom</td>\n",
              "      <td>medium</td>\n",
              "      <td>normal</td>\n",
              "    </tr>\n",
              "    <tr>\n",
              "      <th>...</th>\n",
              "      <td>...</td>\n",
              "      <td>...</td>\n",
              "      <td>...</td>\n",
              "      <td>...</td>\n",
              "      <td>...</td>\n",
              "      <td>...</td>\n",
              "    </tr>\n",
              "    <tr>\n",
              "      <th>541904</th>\n",
              "      <td>pack of 20 spaceboy napkins</td>\n",
              "      <td>12.0</td>\n",
              "      <td>0.85</td>\n",
              "      <td>France</td>\n",
              "      <td>medium</td>\n",
              "      <td>low</td>\n",
              "    </tr>\n",
              "    <tr>\n",
              "      <th>541905</th>\n",
              "      <td>children's apron dolly girl</td>\n",
              "      <td>6.0</td>\n",
              "      <td>2.10</td>\n",
              "      <td>France</td>\n",
              "      <td>medium</td>\n",
              "      <td>low</td>\n",
              "    </tr>\n",
              "    <tr>\n",
              "      <th>541906</th>\n",
              "      <td>childrens cutlery dolly girl</td>\n",
              "      <td>4.0</td>\n",
              "      <td>4.15</td>\n",
              "      <td>France</td>\n",
              "      <td>medium</td>\n",
              "      <td>normal</td>\n",
              "    </tr>\n",
              "    <tr>\n",
              "      <th>541907</th>\n",
              "      <td>childrens cutlery circus parade</td>\n",
              "      <td>4.0</td>\n",
              "      <td>4.15</td>\n",
              "      <td>France</td>\n",
              "      <td>medium</td>\n",
              "      <td>normal</td>\n",
              "    </tr>\n",
              "    <tr>\n",
              "      <th>541908</th>\n",
              "      <td>baking set 9 piece retrospot</td>\n",
              "      <td>3.0</td>\n",
              "      <td>4.95</td>\n",
              "      <td>France</td>\n",
              "      <td>medium</td>\n",
              "      <td>normal</td>\n",
              "    </tr>\n",
              "  </tbody>\n",
              "</table>\n",
              "<p>339453 rows × 6 columns</p>\n",
              "</div>"
            ],
            "text/plain": [
              "                                Description  Quantity  UnitPrice  \\\n",
              "0        white hanging heart t-light holder       6.0       2.55   \n",
              "1                       white metal lantern       6.0       3.39   \n",
              "2            cream cupid hearts coat hanger       8.0       2.75   \n",
              "3       knitted union flag hot water bottle       6.0       3.39   \n",
              "4            red woolly hottie white heart.       6.0       3.39   \n",
              "...                                     ...       ...        ...   \n",
              "541904          pack of 20 spaceboy napkins      12.0       0.85   \n",
              "541905         children's apron dolly girl        6.0       2.10   \n",
              "541906        childrens cutlery dolly girl        4.0       4.15   \n",
              "541907      childrens cutlery circus parade       4.0       4.15   \n",
              "541908        baking set 9 piece retrospot        3.0       4.95   \n",
              "\n",
              "               Country T_Quantity T_UnitPrice  \n",
              "0       United Kingdom     medium      normal  \n",
              "1       United Kingdom     medium      normal  \n",
              "2       United Kingdom     medium      normal  \n",
              "3       United Kingdom     medium      normal  \n",
              "4       United Kingdom     medium      normal  \n",
              "...                ...        ...         ...  \n",
              "541904          France     medium         low  \n",
              "541905          France     medium         low  \n",
              "541906          France     medium      normal  \n",
              "541907          France     medium      normal  \n",
              "541908          France     medium      normal  \n",
              "\n",
              "[339453 rows x 6 columns]"
            ]
          },
          "execution_count": 73,
          "metadata": {},
          "output_type": "execute_result"
        }
      ],
      "source": [
        "#final shape for the dataset after the preprocessing on it \n",
        "Data"
      ]
    },
    {
      "cell_type": "code",
      "execution_count": null,
      "id": "f7c7d7d4",
      "metadata": {
        "id": "f7c7d7d4"
      },
      "outputs": [],
      "source": [
        "#encoding the Description,Country column from categorical data to numeric for the model to understand and put it in the datafarme\n",
        "le = LabelEncoder()\n",
        "le.fit(Data[\"Description\"])\n",
        "Data[\"Description\"] = le.transform(Data[\"Description\"])\n",
        "le.fit(Data[\"Country\"])\n",
        "Data[\"Country\"] = le.transform(Data[\"Country\"])"
      ]
    },
    {
      "cell_type": "code",
      "execution_count": null,
      "id": "4813e7a3",
      "metadata": {
        "id": "4813e7a3",
        "outputId": "6f9ed6b0-d303-45ad-f2d6-0e00a70bcc5e"
      },
      "outputs": [
        {
          "data": {
            "text/plain": [
              "KMeans(n_clusters=3, random_state=0)"
            ]
          },
          "execution_count": 75,
          "metadata": {},
          "output_type": "execute_result"
        }
      ],
      "source": [
        "#select feature i want from Data\n",
        "#Create KMeans Classifier, set number of clusters or centroids, random number generation for centroid initialization. \n",
        "#Use an int in (random_state) to make the randomness deterministic.\n",
        "#we use Kmeans.fit(Data) to train our model in our data set that need to be Clustered.\n",
        "Data = Data[['Description', 'Quantity', 'UnitPrice', 'Country']]\n",
        "kmeans = KMeans(n_clusters=3, random_state=0).fit(Data)\n",
        "kmeans"
      ]
    },
    {
      "cell_type": "code",
      "execution_count": null,
      "id": "fa099f70",
      "metadata": {
        "id": "fa099f70",
        "outputId": "30fa9cce-9081-49c1-b0c5-63f35d5a9dde"
      },
      "outputs": [
        {
          "data": {
            "text/plain": [
              "array([0, 0, 1, ..., 1, 1, 1])"
            ]
          },
          "execution_count": 76,
          "metadata": {},
          "output_type": "execute_result"
        }
      ],
      "source": [
        "#Predict the closest cluster each sample in X belongs to\n",
        "P_KM = kmeans.predict(Data)\n",
        "P_KM"
      ]
    },
    {
      "cell_type": "code",
      "execution_count": null,
      "id": "9bccc252",
      "metadata": {
        "id": "9bccc252",
        "outputId": "e6aac23b-f903-4146-92eb-34ce40919d72"
      },
      "outputs": [
        {
          "name": "stdout",
          "output_type": "stream",
          "text": [
            "[[2.92780934e+03 7.49903988e+00 2.17490696e+00 3.27464738e+01]\n",
            " [5.53764356e+02 7.12732066e+00 2.33352365e+00 3.29737583e+01]\n",
            " [1.73061742e+03 7.35655950e+00 2.13618892e+00 3.33643332e+01]]\n"
          ]
        }
      ],
      "source": [
        "#Coordinates of cluster centers \n",
        "Centroid = kmeans.cluster_centers_\n",
        "print(Centroid)"
      ]
    },
    {
      "cell_type": "code",
      "execution_count": null,
      "id": "f7a1acb6",
      "metadata": {
        "id": "f7a1acb6",
        "outputId": "151ec866-e87c-4728-e75f-56904e5a846a"
      },
      "outputs": [
        {
          "data": {
            "text/plain": [
              "array([0, 1, 2])"
            ]
          },
          "execution_count": 78,
          "metadata": {},
          "output_type": "execute_result"
        }
      ],
      "source": [
        "#Getting labels of each point using Kmeans.labels_ method\n",
        "#Getting unique labels using np.unique(Labels)\n",
        "Labels = kmeans.labels_\n",
        "unique_Labels = np.unique(Labels)\n",
        "unique_Labels"
      ]
    }
  ],
  "metadata": {
    "kernelspec": {
      "display_name": "Python 3 (ipykernel)",
      "language": "python",
      "name": "python3"
    },
    "language_info": {
      "codemirror_mode": {
        "name": "ipython",
        "version": 3
      },
      "file_extension": ".py",
      "mimetype": "text/x-python",
      "name": "python",
      "nbconvert_exporter": "python",
      "pygments_lexer": "ipython3",
      "version": "3.9.7"
    },
    "colab": {
      "provenance": [],
      "include_colab_link": true
    }
  },
  "nbformat": 4,
  "nbformat_minor": 5
}